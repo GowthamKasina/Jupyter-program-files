{
 "cells": [
  {
   "cell_type": "markdown",
   "metadata": {},
   "source": [
    "# 1) Return the number of even ints in the given array. Note: the % \"mod\" operator computes the remainder, e.g. 5 % 2 is 1.\n",
    "\n",
    "\n",
    "count_evens([2, 1, 2, 3, 4]) → 3\n",
    "\n",
    "count_evens([2, 2, 0]) → 3\n",
    "\n",
    "count_evens([1, 3, 5]) → 0\n",
    "\n",
    "In Python, \"for num in nums:\" will loop through all the values in the list. Loop through all the values, and count how many times the value is even.\n"
   ]
  },
  {
   "cell_type": "code",
   "execution_count": 7,
   "metadata": {},
   "outputs": [
    {
     "data": {
      "text/plain": [
       "4"
      ]
     },
     "execution_count": 7,
     "metadata": {},
     "output_type": "execute_result"
    }
   ],
   "source": [
    "def count_evens(nums):\n",
    "    count = 0\n",
    "    for n in nums:\n",
    "        count = count - (n%2-1)\n",
    "    return count\n",
    "count_evens([2, 1, 2, 3, 4,6]) "
   ]
  },
  {
   "cell_type": "markdown",
   "metadata": {},
   "source": [
    "# 2) Given an array length 1 or more of ints, return the difference between the largest and smallest values in the array. Note: the built-in min(v1, v2) and max(v1, v2) functions return the smaller or larger of two values.\n",
    "\n",
    "\n",
    "big_diff([10, 3, 5, 6]) → 7\n",
    "\n",
    "big_diff([7, 2, 10, 9]) → 8\n",
    "\n",
    "big_diff([2, 10, 7, 2]) → 8\n",
    "\n",
    "    "
   ]
  },
  {
   "cell_type": "code",
   "execution_count": 13,
   "metadata": {},
   "outputs": [
    {
     "data": {
      "text/plain": [
       "2"
      ]
     },
     "execution_count": 13,
     "metadata": {},
     "output_type": "execute_result"
    }
   ],
   "source": [
    "def abd(value):\n",
    "    return max(value)-min(value)\n",
    "abd([1,2,3])"
   ]
  },
  {
   "cell_type": "code",
   "execution_count": 14,
   "metadata": {},
   "outputs": [
    {
     "data": {
      "text/plain": [
       "7"
      ]
     },
     "execution_count": 14,
     "metadata": {},
     "output_type": "execute_result"
    }
   ],
   "source": [
    "def big_diff(nums):\n",
    "    return max(nums) - min(nums)\n",
    "big_diff([10, 3, 5, 6]) "
   ]
  },
  {
   "cell_type": "markdown",
   "metadata": {},
   "source": [
    "# 3) Return the \"centered\" average of an array of ints, which we'll say is the mean average of the values, except ignoring the largest and smallest values in the array. If there are multiple copies of the smallest value, ignore just one copy, and likewise for the largest value. Use int division to produce the final average. You may assume that the array is length 3 or more.\n",
    "\n",
    "\n",
    "centered_average([1, 2, 3, 4, 100]) → 3\n",
    "\n",
    "centered_average([1, 1, 5, 5, 10, 8, 7]) → 5\n",
    "\n",
    "centered_average([-10, -4, -2, -4, -2, 0]) → -3"
   ]
  },
  {
   "cell_type": "code",
   "execution_count": 20,
   "metadata": {},
   "outputs": [
    {
     "data": {
      "text/plain": [
       "3.0"
      ]
     },
     "execution_count": 20,
     "metadata": {},
     "output_type": "execute_result"
    }
   ],
   "source": [
    "def nope(a):\n",
    "    a.sort()\n",
    "    x= sum(a[1:-1])\n",
    "    y= len(a)-2\n",
    "    return x/y\n",
    "nope([1, 2, 3, 4, 100])"
   ]
  },
  {
   "cell_type": "code",
   "execution_count": 17,
   "metadata": {},
   "outputs": [
    {
     "data": {
      "text/plain": [
       "-3.0"
      ]
     },
     "execution_count": 17,
     "metadata": {},
     "output_type": "execute_result"
    }
   ],
   "source": [
    "def centered_average(nums):\n",
    "    nums.sort()\n",
    "    return sum(nums[1:-1]) / (len(nums) - 2)\n",
    "centered_average([-10, -4, -2, -4, -2, 0]) "
   ]
  },
  {
   "cell_type": "markdown",
   "metadata": {},
   "source": [
    "# 4) Return the sum of the numbers in the array, returning 0 for an empty array. Except the number 13 is very unlucky, so it does not count and numbers that come immediately after a 13 also do not count.\n",
    "\n",
    "\n",
    "sum13([1, 2, 2, 1]) → 6\n",
    "\n",
    "sum13([1, 1]) → 2\n",
    "\n",
    "sum13([1, 2, 2, 1, 13]) → 6"
   ]
  },
  {
   "cell_type": "code",
   "execution_count": 35,
   "metadata": {},
   "outputs": [],
   "source": [
    "def mi(a):\n",
    "    a.sort()\n",
    "    return a.remove(max(a[-1:])) and sum(a[:])\n",
    "mi([1,2,3,13])"
   ]
  },
  {
   "cell_type": "code",
   "execution_count": 36,
   "metadata": {},
   "outputs": [
    {
     "data": {
      "text/plain": [
       "6"
      ]
     },
     "execution_count": 36,
     "metadata": {},
     "output_type": "execute_result"
    }
   ],
   "source": [
    "def sum13(nums):\n",
    "    while 13 in nums:\n",
    "        if nums.index(13) < len(nums)-1:\n",
    "            nums.pop(nums.index(13)+1)\n",
    "        nums.pop(nums.index(13))\n",
    "    return sum(nums)\n",
    "sum13([1, 2, 2, 1, 13]) \n",
    "    "
   ]
  },
  {
   "cell_type": "markdown",
   "metadata": {},
   "source": [
    "# 5) Return the sum of the numbers in the array, except ignore sections of numbers starting with a 6 and extending to the next 7 (every 6 will be followed by at least one 7). Return 0 for no numbers.\n",
    "\n",
    "\n",
    "sum67([1, 2, 2]) → 5\n",
    "\n",
    "sum67([1, 2, 2, 6, 99, 99, 7]) → 5\n",
    "\n",
    "sum67([1, 1, 6, 7, 2]) → 4\n"
   ]
  },
  {
   "cell_type": "code",
   "execution_count": 38,
   "metadata": {},
   "outputs": [
    {
     "data": {
      "text/plain": [
       "4"
      ]
     },
     "execution_count": 38,
     "metadata": {},
     "output_type": "execute_result"
    }
   ],
   "source": [
    "def sum67(nums):\n",
    "    count = 0\n",
    "    blocked = False\n",
    "    for n in nums:\n",
    "        if n == 6:\n",
    "            blocked = True\n",
    "            continue\n",
    "        if n == 7 and blocked:\n",
    "            blocked = False\n",
    "            continue\n",
    "        if not blocked:\n",
    "            count = count + n\n",
    "    return count\n",
    "sum67([1, 1, 6, 7, 2]) "
   ]
  },
  {
   "cell_type": "markdown",
   "metadata": {},
   "source": [
    "# 6) Given an array of ints, return True if the array contains a 2 next to a 2 somewhere.\n",
    "\n",
    "\n",
    "has22([1, 2, 2]) → True\n",
    "\n",
    "has22([1, 2, 1, 2]) → False\n",
    "\n",
    "has22([2, 1, 2]) → False"
   ]
  },
  {
   "cell_type": "code",
   "execution_count": 39,
   "metadata": {},
   "outputs": [
    {
     "data": {
      "text/plain": [
       "True"
      ]
     },
     "execution_count": 39,
     "metadata": {},
     "output_type": "execute_result"
    }
   ],
   "source": [
    "def has22(nums):\n",
    "    for i,v in enumerate(nums[:-1]):\n",
    "        if v == 2 and nums[i+1] == 2:\n",
    "            return True\n",
    "    return False\n",
    "has22([1, 2, 2]) "
   ]
  },
  {
   "cell_type": "code",
   "execution_count": null,
   "metadata": {},
   "outputs": [],
   "source": []
  }
 ],
 "metadata": {
  "kernelspec": {
   "display_name": "Python 3",
   "language": "python",
   "name": "python3"
  },
  "language_info": {
   "codemirror_mode": {
    "name": "ipython",
    "version": 3
   },
   "file_extension": ".py",
   "mimetype": "text/x-python",
   "name": "python",
   "nbconvert_exporter": "python",
   "pygments_lexer": "ipython3",
   "version": "3.7.4"
  }
 },
 "nbformat": 4,
 "nbformat_minor": 2
}
