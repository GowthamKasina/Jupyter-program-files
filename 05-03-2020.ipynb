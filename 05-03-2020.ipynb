{
 "cells": [
  {
   "cell_type": "code",
   "execution_count": 1,
   "metadata": {},
   "outputs": [
    {
     "name": "stdout",
     "output_type": "stream",
     "text": [
      "0 b\n",
      "1 a\n",
      "2 n\n",
      "3 a\n",
      "4 n\n",
      "5 a\n"
     ]
    }
   ],
   "source": [
    "#05-03-2020\n",
    "\n",
    "fruit ='banana'\n",
    "i=0\n",
    "while i<len(fruit):\n",
    "    #print(len(fruit))\n",
    "    letter=fruit[i]\n",
    "    print(i,letter)\n",
    "    i=i+1\n",
    "    "
   ]
  },
  {
   "cell_type": "code",
   "execution_count": 17,
   "metadata": {},
   "outputs": [
    {
     "ename": "SyntaxError",
     "evalue": "invalid syntax (<ipython-input-17-ef2480b16f9c>, line 3)",
     "output_type": "error",
     "traceback": [
      "\u001b[1;36m  File \u001b[1;32m\"<ipython-input-17-ef2480b16f9c>\"\u001b[1;36m, line \u001b[1;32m3\u001b[0m\n\u001b[1;33m    for i<len(fruit):\u001b[0m\n\u001b[1;37m         ^\u001b[0m\n\u001b[1;31mSyntaxError\u001b[0m\u001b[1;31m:\u001b[0m invalid syntax\n"
     ]
    }
   ],
   "source": [
    "fruit = 'banana'\n",
    "i=0\n",
    "for i<len(fruit):\n",
    "    letter=fruit[i]\n",
    "    print(i,letter)\n",
    "    "
   ]
  },
  {
   "cell_type": "code",
   "execution_count": 21,
   "metadata": {},
   "outputs": [
    {
     "name": "stdout",
     "output_type": "stream",
     "text": [
      "1\n",
      "2\n",
      "3\n"
     ]
    }
   ],
   "source": [
    "word = 'banana'\n",
    "count = 0\n",
    "for letter in word:\n",
    "    if letter == 'a':\n",
    "        count = count + 1\n",
    "        print (count)"
   ]
  },
  {
   "cell_type": "markdown",
   "metadata": {},
   "source": [
    "# TODAY'S TASK [LEARN ABOUT WHILE LOOP WITH OUR OWN TALENT ]"
   ]
  },
  {
   "cell_type": "code",
   "execution_count": 2,
   "metadata": {},
   "outputs": [
    {
     "name": "stdout",
     "output_type": "stream",
     "text": [
      "3 a\n"
     ]
    }
   ],
   "source": [
    "word='banana'\n",
    "count=0\n",
    "for letter in word:\n",
    "    if letter == 'a':\n",
    "        count=count+1    \n",
    "print(count,letter)\n"
   ]
  },
  {
   "cell_type": "code",
   "execution_count": 3,
   "metadata": {},
   "outputs": [
    {
     "name": "stdout",
     "output_type": "stream",
     "text": [
      "ho\n"
     ]
    }
   ],
   "source": [
    "s=\"montypython\"\n",
    "print(s[-3:-1])"
   ]
  },
  {
   "cell_type": "code",
   "execution_count": 4,
   "metadata": {},
   "outputs": [
    {
     "name": "stdout",
     "output_type": "stream",
     "text": [
      "montypython\n"
     ]
    }
   ],
   "source": [
    "print(s[:])"
   ]
  },
  {
   "cell_type": "code",
   "execution_count": 5,
   "metadata": {},
   "outputs": [
    {
     "name": "stdout",
     "output_type": "stream",
     "text": [
      "o\n"
     ]
    }
   ],
   "source": [
    "print(s[1:2])"
   ]
  },
  {
   "cell_type": "code",
   "execution_count": 6,
   "metadata": {},
   "outputs": [
    {
     "name": "stdout",
     "output_type": "stream",
     "text": [
      "hon\n"
     ]
    }
   ],
   "source": [
    "print(s[8:])"
   ]
  },
  {
   "cell_type": "code",
   "execution_count": 7,
   "metadata": {},
   "outputs": [
    {
     "name": "stdout",
     "output_type": "stream",
     "text": [
      "montyp\n"
     ]
    }
   ],
   "source": [
    "print(s[:6])"
   ]
  },
  {
   "cell_type": "code",
   "execution_count": 8,
   "metadata": {},
   "outputs": [
    {
     "name": "stdout",
     "output_type": "stream",
     "text": [
      "hellothere\n",
      "hello there\n"
     ]
    }
   ],
   "source": [
    "a='hello'\n",
    "b=a+'there'\n",
    "print(b)\n",
    "\n",
    "c=a+' '+'there'\n",
    "print(c)\n"
   ]
  },
  {
   "cell_type": "code",
   "execution_count": 9,
   "metadata": {},
   "outputs": [
    {
     "data": {
      "text/plain": [
       "False"
      ]
     },
     "execution_count": 9,
     "metadata": {},
     "output_type": "execute_result"
    }
   ],
   "source": [
    "fruit='banana'\n",
    "'sds' in fruit\n",
    "'nn' in fruit\n",
    "'ana' in fruit\n",
    "'ban' in fruit\n",
    "'nnn' in fruit\n",
    "'aaa' in fruit"
   ]
  },
  {
   "cell_type": "code",
   "execution_count": 10,
   "metadata": {},
   "outputs": [
    {
     "name": "stdout",
     "output_type": "stream",
     "text": [
      "alright,bananas.\n",
      "alright,bananas.\n"
     ]
    }
   ],
   "source": [
    "if word =='banana':\n",
    "    print('alright,bananas.')\n",
    "    if word < 'banana':\n",
    "        print('your word,'+ word +',comes before banana.')\n",
    "    elif word > 'banana':\n",
    "        print('your word,'+ word +',comes after banana.')\n",
    "    else:\n",
    "        print('alright,bananas.')"
   ]
  },
  {
   "cell_type": "code",
   "execution_count": 11,
   "metadata": {},
   "outputs": [],
   "source": [
    "word =='banana'\n",
    "if word < 'banana':\n",
    "        print('your word,'+ word +',comes before banana.')"
   ]
  },
  {
   "cell_type": "code",
   "execution_count": 12,
   "metadata": {},
   "outputs": [],
   "source": [
    "word =='banana'\n",
    "if word > 'banana':\n",
    "        print('your word,'+ word +',comes after banana.')"
   ]
  },
  {
   "cell_type": "code",
   "execution_count": 13,
   "metadata": {},
   "outputs": [
    {
     "name": "stdout",
     "output_type": "stream",
     "text": [
      "alright,bananas.\n"
     ]
    }
   ],
   "source": [
    "word =='banana'\n",
    "if word < 'banana':\n",
    "    print('your word,'+ word +',comes before banana.')\n",
    "elif word > 'banana':\n",
    "    print('your word,'+ word +',comes after banana.')\n",
    "else:\n",
    "    print('alright,bananas.')"
   ]
  },
  {
   "cell_type": "code",
   "execution_count": 14,
   "metadata": {},
   "outputs": [
    {
     "name": "stdout",
     "output_type": "stream",
     "text": [
      "alright,bananas.\n"
     ]
    }
   ],
   "source": [
    "\n",
    "if word == 'banana':\n",
    "    print('alright,bananas.')"
   ]
  },
  {
   "cell_type": "code",
   "execution_count": 15,
   "metadata": {},
   "outputs": [
    {
     "name": "stdout",
     "output_type": "stream",
     "text": [
      "alright,bananas.\n"
     ]
    }
   ],
   "source": [
    "if word < 'banana':\n",
    "    print('your word,'+ word +',comes before banana.')\n",
    "elif word > 'banana':\n",
    "    print('your word,'+ word +',comes after banana.')\n",
    "else:\n",
    "    print('alright,bananas.')"
   ]
  },
  {
   "cell_type": "code",
   "execution_count": null,
   "metadata": {},
   "outputs": [],
   "source": []
  }
 ],
 "metadata": {
  "kernelspec": {
   "display_name": "Python 3",
   "language": "python",
   "name": "python3"
  },
  "language_info": {
   "codemirror_mode": {
    "name": "ipython",
    "version": 3
   },
   "file_extension": ".py",
   "mimetype": "text/x-python",
   "name": "python",
   "nbconvert_exporter": "python",
   "pygments_lexer": "ipython3",
   "version": "3.7.4"
  }
 },
 "nbformat": 4,
 "nbformat_minor": 2
}
