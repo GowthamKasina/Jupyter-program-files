{
 "cells": [
  {
   "cell_type": "markdown",
   "metadata": {},
   "source": [
    "# 1) Given a string, return a string where for every char in the original, there are two chars.\n",
    "\n",
    "\n",
    "double_char('The') → 'TThhee'\n",
    "\n",
    "double_char('AAbb') → 'AAAAbbbb'\n",
    "\n",
    "double_char('Hi-There') → 'HHii--TThheerree'\n",
    "\n",
    "In Python, the loop \"for i in range(len(str)):\" loops i through each index in the string, 0, 1, 2, .. len-1."
   ]
  },
  {
   "cell_type": "code",
   "execution_count": 14,
   "metadata": {},
   "outputs": [
    {
     "data": {
      "text/plain": [
       "'TThhee'"
      ]
     },
     "execution_count": 14,
     "metadata": {},
     "output_type": "execute_result"
    }
   ],
   "source": [
    "def double_char(str):\n",
    "    new_str = \"\"\n",
    "    for word in str:\n",
    "        #new_str += char*2\n",
    "        new_str =new_str+word*2\n",
    "    return new_str\n",
    "double_char('The') "
   ]
  },
  {
   "cell_type": "code",
   "execution_count": 33,
   "metadata": {},
   "outputs": [
    {
     "data": {
      "text/plain": [
       "'TThhee'"
      ]
     },
     "execution_count": 33,
     "metadata": {},
     "output_type": "execute_result"
    }
   ],
   "source": [
    "def double_char(a):\n",
    "    x = \"\"\n",
    "    for char in a:\n",
    "        x = x+char*2\n",
    "    return x\n",
    "double_char('The')"
   ]
  },
  {
   "cell_type": "code",
   "execution_count": 3,
   "metadata": {},
   "outputs": [
    {
     "name": "stdout",
     "output_type": "stream",
     "text": [
      "tthhee\n"
     ]
    }
   ],
   "source": [
    "x=\"the\"\n",
    "print (x[0]*2+x[1]*2+x[2]*2)"
   ]
  },
  {
   "cell_type": "markdown",
   "metadata": {},
   "source": [
    "# 2) Return the number of times that the string \"hi\" appears anywhere in the given string.\n",
    "\n",
    "\n",
    "count_hi('abc hi ho') → 1\n",
    "\n",
    "count_hi('ABChi hi') → 2\n",
    "\n",
    "count_hi('hihi') → 2\n",
    "\n",
    "Use the \"for i in range(len(str)-1):\" loop to look at each index in the string, except the last. For each i, extract the string starting at i and up to but not including i+2. Check if that string is 'hi', and count how many times that happens.\n"
   ]
  },
  {
   "cell_type": "code",
   "execution_count": 34,
   "metadata": {},
   "outputs": [
    {
     "data": {
      "text/plain": [
       "2"
      ]
     },
     "execution_count": 34,
     "metadata": {},
     "output_type": "execute_result"
    }
   ],
   "source": [
    "def count_hi(str):\n",
    "    return str.count(\"h\")\n",
    "count_hi('abc hi ho') "
   ]
  },
  {
   "cell_type": "markdown",
   "metadata": {},
   "source": [
    "# 3) Return True if the string \"cat\" and \"dog\" appear the same number of times in the given string.\n",
    "\n",
    "\n",
    "cat_dog('catdog') → True\n",
    "\n",
    "cat_dog('catcat') → False\n",
    "\n",
    "cat_dog('1cat1cadodog') → True"
   ]
  },
  {
   "cell_type": "code",
   "execution_count": 36,
   "metadata": {},
   "outputs": [
    {
     "data": {
      "text/plain": [
       "False"
      ]
     },
     "execution_count": 36,
     "metadata": {},
     "output_type": "execute_result"
    }
   ],
   "source": [
    "def cat_dog(str):\n",
    "    return str.count(\"cat\") == str.count(\"dog\")\n",
    "cat_dog('catdogcat')"
   ]
  },
  {
   "cell_type": "markdown",
   "metadata": {},
   "source": [
    "# 4) Return the number of times that the string \"code\" appears anywhere in the given string, except we'll accept any letter for the 'd', so \"cope\" and \"cooe\" count.\n",
    "\n",
    "\n",
    "count_code('aaacodebbb') → 1\n",
    "\n",
    "count_code('codexxcode') → 2\n",
    "\n",
    "count_code('cozexxcope') → 2"
   ]
  },
  {
   "cell_type": "code",
   "execution_count": 38,
   "metadata": {},
   "outputs": [
    {
     "data": {
      "text/plain": [
       "1"
      ]
     },
     "execution_count": 38,
     "metadata": {},
     "output_type": "execute_result"
    }
   ],
   "source": [
    "def count_code(str):\n",
    "    count = 0\n",
    "    i=0\n",
    "    while \"co\" in str[i:]:\n",
    "        if len(str[i+str[i:].index(\"co\"):]) >= 4 and str[i+3+str[i:].index(\"co\")] == \"e\":\n",
    "            count = count+1\n",
    "            i = i+str[i:].index(\"co\")+3\n",
    "        return count\n",
    "count_code('aaacodebbb')"
   ]
  },
  {
   "cell_type": "markdown",
   "metadata": {},
   "source": [
    "# 5) Given two strings, return True if either of the strings appears at the very end of the other string, ignoring upper/lower case differences (in other words, the computation should not be \"case sensitive\"). Note: s.lower() returns the lowercase version of a string.\n",
    "\n",
    "\n",
    "end_other('Hiabc', 'abc') → True\n",
    "\n",
    "end_other('AbC', 'HiaBc') → True\n",
    "\n",
    "end_other('abc', 'abXabc') → True\n",
    "\n",
    "In Python s1.endswith(s2) tests if string s1 ends with string s2 -- makes this much easier!"
   ]
  },
  {
   "cell_type": "code",
   "execution_count": 60,
   "metadata": {},
   "outputs": [
    {
     "data": {
      "text/plain": [
       "True"
      ]
     },
     "execution_count": 60,
     "metadata": {},
     "output_type": "execute_result"
    }
   ],
   "source": [
    "def end_other(a, b):\n",
    "    long_s, short_s = (a,b) \n",
    "    if len(a) >= len(b):\n",
    "        return long_s.lower().endswith(short_s.lower())\n",
    "    else:\n",
    "        (b,a)\n",
    "        return long_s.lower().endswith(short_s.lower()) \n",
    "                                       \n",
    "end_other('Hiabc', 'abc')"
   ]
  },
  {
   "cell_type": "code",
   "execution_count": 81,
   "metadata": {},
   "outputs": [
    {
     "data": {
      "text/plain": [
       "True"
      ]
     },
     "execution_count": 81,
     "metadata": {},
     "output_type": "execute_result"
    }
   ],
   "source": [
    "def xy(a,b):\n",
    "    if b.lower().endswith(a.lower()):\n",
    "        return True\n",
    "    else:\n",
    "        return False\n",
    "xy('aBc','HiabC')"
   ]
  },
  {
   "cell_type": "markdown",
   "metadata": {},
   "source": [
    "# 6) Return True if the given string contains an appearance of \"xyz\" where the xyz is not directly preceeded by a period (.). So \"xxyz\" counts but \"x.xyz\" does not.\n",
    "\n",
    "\n",
    "xyz_there('abcxyz') → True\n",
    "\n",
    "xyz_there('abc.xyz') → False\n",
    "\n",
    "xyz_there('xyz.abc') → True\n"
   ]
  },
  {
   "cell_type": "code",
   "execution_count": 1,
   "metadata": {},
   "outputs": [
    {
     "data": {
      "text/plain": [
       "True"
      ]
     },
     "execution_count": 1,
     "metadata": {},
     "output_type": "execute_result"
    }
   ],
   "source": [
    "def xyz_there(str):\n",
    "    i=0\n",
    "    while \"xyz\" in str[i:]:\n",
    "        if str[i-1+str[i:].index(\"xyz\")] != \".\":\n",
    "            return True\n",
    "        i =i+ str[i:].index(\"xyz\")+2\n",
    "        return False\n",
    "xyz_there('abcxxyz')"
   ]
  },
  {
   "cell_type": "code",
   "execution_count": 36,
   "metadata": {},
   "outputs": [
    {
     "data": {
      "text/plain": [
       "True"
      ]
     },
     "execution_count": 36,
     "metadata": {},
     "output_type": "execute_result"
    }
   ],
   "source": [
    "def xyzthere(str):\n",
    "    if str.startswith(\"xyz\"):\n",
    "        return True\n",
    "    for i in range(1,len(str)):\n",
    "        if str[i-1] != \".\" and str[i:i+3]==\"xyz\":\n",
    "            return True\n",
    "    return False\n",
    "xyzthere('abcxxyz')  "
   ]
  },
  {
   "cell_type": "code",
   "execution_count": 106,
   "metadata": {},
   "outputs": [
    {
     "name": "stdout",
     "output_type": "stream",
     "text": [
      "value: abc.xyz\n"
     ]
    },
    {
     "data": {
      "text/plain": [
       "True"
      ]
     },
     "execution_count": 106,
     "metadata": {},
     "output_type": "execute_result"
    }
   ],
   "source": [
    "\n",
    "def abc():\n",
    "    x=input(\"value: \")\n",
    "    \n",
    "    if \"xyz\" in x:\n",
    "        return True\n",
    "    else:\n",
    "        return False\n",
    "abc()"
   ]
  },
  {
   "cell_type": "code",
   "execution_count": null,
   "metadata": {},
   "outputs": [],
   "source": [
    "def abc():\n",
    "    x = input(\"Enter the value:\")\n",
    "    if \"xyz\" in x:\n",
    "        return True\n",
    "    else:\n",
    "        return False\n",
    "abc()"
   ]
  }
 ],
 "metadata": {
  "kernelspec": {
   "display_name": "Python 3",
   "language": "python",
   "name": "python3"
  },
  "language_info": {
   "codemirror_mode": {
    "name": "ipython",
    "version": 3
   },
   "file_extension": ".py",
   "mimetype": "text/x-python",
   "name": "python",
   "nbconvert_exporter": "python",
   "pygments_lexer": "ipython3",
   "version": "3.7.4"
  }
 },
 "nbformat": 4,
 "nbformat_minor": 2
}
