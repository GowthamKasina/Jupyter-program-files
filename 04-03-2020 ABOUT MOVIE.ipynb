{
 "cells": [
  {
   "cell_type": "code",
   "execution_count": 5,
   "metadata": {},
   "outputs": [
    {
     "name": "stdout",
     "output_type": "stream",
     "text": [
      "movie rating 5.1\n",
      "Super Block boster\n"
     ]
    }
   ],
   "source": [
    "#04-03-2020\n",
    "def MOVIERATING(Rating):\n",
    "    try:\n",
    "        if Rating >=5:\n",
    "            print(\"movie rating\",Rating)\n",
    "            print(\"Super Block boster\")\n",
    "        else:\n",
    "            Rating<2\n",
    "            print(\"movie rating\",Rating)\n",
    "            print(\"FLOP\")\n",
    "    except:\n",
    "        Rating>5\n",
    "        print('\"Condition\"')\n",
    "        print(\"The rating will be Out if 5\")\n",
    "MOVIERATING(5.1)"
   ]
  },
  {
   "cell_type": "code",
   "execution_count": 19,
   "metadata": {},
   "outputs": [
    {
     "name": "stdout",
     "output_type": "stream",
     "text": [
      "Super HIT\n",
      "khaidi150 chiru 2000\n",
      "NEW MOVIE\n"
     ]
    }
   ],
   "source": [
    "def movie(album,artist,year,Rating):\n",
    "        if year>=2000:\n",
    "            print(album,artist,year)\n",
    "            print (\"NEW MOVIE\")\n",
    "                \n",
    "        else:\n",
    "            (year<2000)\n",
    "            print(album,artist,year)\n",
    "            print(\"OLD MOVIE\")\n",
    "            \n",
    "movie(\"khaidi150\",\"chiru\",2000,MOVIERATING2(5))"
   ]
  },
  {
   "cell_type": "code",
   "execution_count": 10,
   "metadata": {},
   "outputs": [
    {
     "name": "stdout",
     "output_type": "stream",
     "text": [
      "SUPER HIT\n"
     ]
    }
   ],
   "source": [
    "def MOVIERATING1(R):\n",
    "    try:\n",
    "        #R=float(input(\"Enter movie rating out of 5 \"))\n",
    "        if R>5.0:\n",
    "            print(\"Condition\")\n",
    "            print(\"The rating should not exceed out of 5\")\n",
    "        elif R==0.0:\n",
    "            print(\"flop\")\n",
    "        elif R==0.1:\n",
    "            print(\"flop\")\n",
    "        elif R==0.2:\n",
    "            print(\"flop\")\n",
    "        elif R==0.3:\n",
    "            print(\"flop\")\n",
    "        elif R==0.4:\n",
    "            print(\"flop\")\n",
    "        elif R==0.5:\n",
    "            print(\"flop\")\n",
    "        elif R==0.6:\n",
    "            print(\"flop\")\n",
    "        elif R==0.7:\n",
    "            print(\"flop\")\n",
    "        elif R==0.8:\n",
    "            print(\"flop\")\n",
    "        elif R==0.9:\n",
    "            print(\"flop\")\n",
    "        elif R==1.0:\n",
    "            print(\"flop\")\n",
    "        elif R==1.1:\n",
    "            print(\"flop\")\n",
    "        elif R==1.2:\n",
    "            print(\"flop\")\n",
    "        elif R==1.3:\n",
    "            print(\"flop\")\n",
    "        elif R==1.4:\n",
    "            print(\"flop\")\n",
    "        elif R==1.5:\n",
    "            print(\"flop\")\n",
    "        elif R==1.6:\n",
    "            print(\"flop\")\n",
    "        elif R==1.7:\n",
    "            print(\"flop\")\n",
    "        elif R==1.8:\n",
    "            print(\"flop\")\n",
    "        elif R==1.9:\n",
    "            print(\"flop\")\n",
    "        elif R==2.0:\n",
    "            print(\"flop\")\n",
    "        elif R==2.1:\n",
    "            print(\"Average\")\n",
    "        elif R==2.2:\n",
    "            print(\"Average\")\n",
    "        elif R==2.3:\n",
    "            print(\"Average\")\n",
    "        elif R==2.4:\n",
    "            print(\"Average\")\n",
    "        elif R==2.5:\n",
    "            print(\"Average\")\n",
    "        elif R==2.6:\n",
    "            print(\"Average\")\n",
    "        elif R==2.7:\n",
    "            print(\"Average\")\n",
    "        elif R==2.8:\n",
    "            print(\"Average\")\n",
    "        elif R==2.9:\n",
    "            print(\"Average\")\n",
    "        elif R==3.0:\n",
    "             print(\"HIT\")\n",
    "        elif R==3.1:\n",
    "            print(\"HIT\")\n",
    "        elif R==3.2:\n",
    "            print(\"HIT\")\n",
    "        elif R==3.3:\n",
    "            print(\"HIT\")\n",
    "        elif R==3.4:\n",
    "            print(\"HIT\")\n",
    "        elif R==3.5:\n",
    "            print(\"HIT\")\n",
    "        elif R==3.6:\n",
    "            print(\"HIT\")\n",
    "        elif R==3.7:\n",
    "            print(\"HIT\")\n",
    "        elif R==3.8:\n",
    "            print(\"HIT\")\n",
    "        elif R==3.9:\n",
    "            print(\"HIT\")\n",
    "        elif R==4.0:\n",
    "            print(\"HIT\")\n",
    "        elif R==4.1:\n",
    "            print(\"HIT\")\n",
    "        elif R==4.2:\n",
    "            print(\"HIT\")\n",
    "        elif R==4.3:\n",
    "            print(\"HIT\")\n",
    "        elif R==4.4:\n",
    "            print(\"HIT\")\n",
    "        elif R==4.5:\n",
    "            print(\"HIT\")\n",
    "        elif R==4.6:\n",
    "            print(\"HIT\")\n",
    "        elif R==4.7:\n",
    "            print(\"HIT\")\n",
    "        elif R==4.8:\n",
    "            print(\"HIT\")\n",
    "        elif R==4.9:\n",
    "            print(\"HIT\")\n",
    "        elif R==5.0:\n",
    "            print(\"SUPER HIT\")\n",
    "        else:\n",
    "            R<0.0\n",
    "            print(\"you do not give -ve values\")\n",
    "    except:\n",
    "        print(\"give only numerical values\")\n",
    "MOVIERATING1(5)"
   ]
  },
  {
   "cell_type": "code",
   "execution_count": 18,
   "metadata": {},
   "outputs": [
    {
     "name": "stdout",
     "output_type": "stream",
     "text": [
      "Super HIT\n"
     ]
    }
   ],
   "source": [
    "def MOVIERATING2(R):\n",
    "    try:\n",
    "        if R>=0.0 and R<=2.5:\n",
    "            print(\"FLOP\")\n",
    "        elif R>=2.6 and R<=3:\n",
    "            print(\"Below Average\")\n",
    "        elif R>=3.1 and R<=3.9:\n",
    "            print(\"Above Average\")\n",
    "        elif R>=4 and R<=5:\n",
    "            print(\"Super HIT\")\n",
    "        else:\n",
    "            R>5\n",
    "            print(\"The rating should not exceed out of 5 \")\n",
    "    except:\n",
    "        print(\"Please give valid rating\")\n",
    "MOVIERATING2(4.3)"
   ]
  },
  {
   "cell_type": "code",
   "execution_count": 8,
   "metadata": {},
   "outputs": [
    {
     "name": "stdout",
     "output_type": "stream",
     "text": [
      "give only valid marks\n"
     ]
    }
   ],
   "source": [
    "try:\n",
    "    def STUDENTMARKS(M):\n",
    "        if M>=0 and M<=34:\n",
    "            print(\"FAIL\")\n",
    "        elif M>=35 and M<=40:\n",
    "            print(\"THIRD CLASS\")\n",
    "        elif M>=41 and M<=59:\n",
    "            print(\"SECOND CLASS\")\n",
    "        elif M>=60 and M<=74:\n",
    "            print(\"FIRST CLASS\")\n",
    "        elif M>=75 and M<=100:\n",
    "            print(\"Distinction\")\n",
    "        else:\n",
    "            M>100\n",
    "            print(\" The marks should not exceed 100 \")\n",
    "    STUDENTMARKS(hb)\n",
    "except:\n",
    "    print(\"give only valid marks\")\n",
    "     "
   ]
  },
  {
   "cell_type": "code",
   "execution_count": null,
   "metadata": {},
   "outputs": [],
   "source": []
  }
 ],
 "metadata": {
  "kernelspec": {
   "display_name": "Python 3",
   "language": "python",
   "name": "python3"
  },
  "language_info": {
   "codemirror_mode": {
    "name": "ipython",
    "version": 3
   },
   "file_extension": ".py",
   "mimetype": "text/x-python",
   "name": "python",
   "nbconvert_exporter": "python",
   "pygments_lexer": "ipython3",
   "version": "3.7.4"
  }
 },
 "nbformat": 4,
 "nbformat_minor": 2
}
