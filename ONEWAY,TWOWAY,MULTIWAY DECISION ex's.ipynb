{
 "cells": [
  {
   "cell_type": "code",
   "execution_count": 1,
   "metadata": {},
   "outputs": [
    {
     "name": "stdout",
     "output_type": "stream",
     "text": [
      "large\n",
      "all done\n"
     ]
    }
   ],
   "source": [
    "#MULTI-WAY DECISION\n",
    "x=20\n",
    "if x<2:\n",
    "    print('small')\n",
    "elif x<10:\n",
    "    print('medium')\n",
    "else:\n",
    "    print('large')\n",
    "    print('all done')"
   ]
  },
  {
   "cell_type": "code",
   "execution_count": null,
   "metadata": {},
   "outputs": [],
   "source": [
    "#MULTI-WAY DECISION example(1)\n",
    "#BoysCount = 50\n",
    "#GirlsCount = 50\n",
    "BoysCount = int(input(\"Enter boys count = \"))\n",
    "GirlsCount = int(input(\"Enter girls count = \"))\n",
    "if BoysCount > GirlsCount:\n",
    "    print('Boys count is high')\n",
    "elif BoysCount == GirlsCount:\n",
    "    print('Both are equal')\n",
    "else:\n",
    "    print('Girls count is high')"
   ]
  },
  {
   "cell_type": "code",
   "execution_count": null,
   "metadata": {},
   "outputs": [],
   "source": [
    "#RameshSalary = 50000\n",
    "#GopiSalary = 15000\n",
    "RameshSalary = int(input(\"Enter RameshSalary = \"))\n",
    "GopiSalary = int(input(\"Enter GopiSalary = \"))\n",
    "if RameshSalary > GopiSalary:\n",
    "    print('Ramesh is teamlead')\n",
    "elif GopiSalary == RameshSalary:\n",
    "    print('both are same role')\n",
    "else:\n",
    "    print('Ramesh is not a teamlead')"
   ]
  },
  {
   "cell_type": "code",
   "execution_count": 19,
   "metadata": {},
   "outputs": [
    {
     "name": "stdout",
     "output_type": "stream",
     "text": [
      "phone will DEAD\n"
     ]
    }
   ],
   "source": [
    "#TWO-WAY DECISION example(1)\n",
    "PhoneCharging = '1%'\n",
    "if PhoneCharging > '1%':\n",
    "    print('phone will run')\n",
    "else:\n",
    "    print('phone will DEAD')"
   ]
  },
  {
   "cell_type": "code",
   "execution_count": 4,
   "metadata": {},
   "outputs": [
    {
     "name": "stdout",
     "output_type": "stream",
     "text": [
      "bad condition\n"
     ]
    }
   ],
   "source": [
    "#TWO-WAY DECISION example(2)\n",
    "Mileage = \"45km/l\"\n",
    "if Mileage <= \"44km/l\":\n",
    "    print('bike condition is good')\n",
    "else:\n",
    "    print('bad condition')\n"
   ]
  },
  {
   "cell_type": "code",
   "execution_count": 44,
   "metadata": {},
   "outputs": [
    {
     "name": "stdout",
     "output_type": "stream",
     "text": [
      "Give me rating : 4\n",
      "HIT\n"
     ]
    }
   ],
   "source": [
    "#ONE-WAY DECISION example(1)\n",
    "#MovieRating = 3.5 means HIT\n",
    "MovieRating = float(input('Give me rating : '))\n",
    "if MovieRating >= 3.5:\n",
    "    print('HIT')"
   ]
  },
  {
   "cell_type": "code",
   "execution_count": 2,
   "metadata": {},
   "outputs": [
    {
     "name": "stdout",
     "output_type": "stream",
     "text": [
      "PASS\n"
     ]
    }
   ],
   "source": [
    "#ONE-WAY DECISION example(2)\n",
    "PassMark = 35\n",
    "if PassMark >= 35:\n",
    "    print('PASS')"
   ]
  },
  {
   "cell_type": "code",
   "execution_count": 5,
   "metadata": {},
   "outputs": [
    {
     "ename": "ZeroDivisionError",
     "evalue": "division by zero",
     "output_type": "error",
     "traceback": [
      "\u001b[1;31m---------------------------------------------------------------------------\u001b[0m",
      "\u001b[1;31mZeroDivisionError\u001b[0m                         Traceback (most recent call last)",
      "\u001b[1;32m<ipython-input-5-9e1622b385b6>\u001b[0m in \u001b[0;36m<module>\u001b[1;34m\u001b[0m\n\u001b[1;32m----> 1\u001b[1;33m \u001b[1;36m1\u001b[0m\u001b[1;33m/\u001b[0m\u001b[1;36m0\u001b[0m\u001b[1;33m\u001b[0m\u001b[1;33m\u001b[0m\u001b[0m\n\u001b[0m",
      "\u001b[1;31mZeroDivisionError\u001b[0m: division by zero"
     ]
    }
   ],
   "source": [
    "1/0"
   ]
  },
  {
   "cell_type": "code",
   "execution_count": 11,
   "metadata": {},
   "outputs": [
    {
     "name": "stdout",
     "output_type": "stream",
     "text": [
      "enter the value of enterhours3\n",
      "enter the value of enterrate3\n",
      "9.0\n"
     ]
    }
   ],
   "source": [
    "#Rewrite your pay computation to give the employee 1.5 times the hourly rate for hours worked above 40 hours.\n",
    "#enter hours:45\n",
    "#enter rate: 10   \n",
    "#pay:475.0\n",
    "40*10\n",
    "\n",
    "\n",
    "enterhours=float(input(\"enter the value of enterhours\"))\n",
    "enterrate=float(input(\"enter the value of enterrate\"))\n",
    "pay= enterhours* enterrate\n",
    "    \n",
    "print(pay)\n",
    "    "
   ]
  },
  {
   "cell_type": "code",
   "execution_count": 18,
   "metadata": {},
   "outputs": [
    {
     "name": "stdout",
     "output_type": "stream",
     "text": [
      "enter the value of enterhours40\n",
      "enter the value of enterrate1.5\n",
      "pay = 60.0\n",
      "ERROR please enter numeric value\n"
     ]
    }
   ],
   "source": [
    "hours=int(input(\"enter the value of enterhours\"))\n",
    "rate=float(input(\"enter the value of enterrate\"))\n",
    "try:\n",
    "    pay=float(hours)\n",
    "    pay=float(rate)\n",
    "    print(\"pay =\",hours* rate)\n",
    "    print(\"ERROR please enter numeric value\")\n",
    "except:\n",
    "    pay=\"ERROR please enter numeric value\"\n",
    "    \n",
    "    \n",
    "    print(\"pay =\",pay)\n",
    "#pay= enterhours* enterrate"
   ]
  },
  {
   "cell_type": "code",
   "execution_count": 19,
   "metadata": {},
   "outputs": [
    {
     "ename": "SyntaxError",
     "evalue": "Missing parentheses in call to 'print'. Did you mean print(pay)? (<ipython-input-19-9b246b4273b5>, line 31)",
     "output_type": "error",
     "traceback": [
      "\u001b[1;36m  File \u001b[1;32m\"<ipython-input-19-9b246b4273b5>\"\u001b[1;36m, line \u001b[1;32m31\u001b[0m\n\u001b[1;33m    print pay\u001b[0m\n\u001b[1;37m            ^\u001b[0m\n\u001b[1;31mSyntaxError\u001b[0m\u001b[1;31m:\u001b[0m Missing parentheses in call to 'print'. Did you mean print(pay)?\n"
     ]
    }
   ],
   "source": [
    "error_msg_numeric = \"Error, please enter numeric input\"\n",
    "\n",
    "hours = raw_input('Enter Hours: ')\n",
    "try:\n",
    "  float(hours)>=0\n",
    "except:\n",
    "  print (error_msg_numeric)\n",
    "  # ideally you would want this whole \"check for valid input\" in a while loop. This is a beginner's course, so here is a get-out-of-jail-free implementation.\n",
    "  hours = raw_input('Enter Hours: ')\n",
    "\n",
    "rate = raw_input('Enter Rate: ')\n",
    "try:\n",
    "  float(rate) >=0\n",
    "except:\n",
    "  print (error_msg_numeric)\n",
    "  rate = raw_input('Enter Rate: ')\n",
    "\n",
    "hours = float(hours)\n",
    "rate = float(rate)\n",
    "\n",
    "if hours > 40:\n",
    "  extra_time = hours - 40\n",
    "else:\n",
    "  extra_time = 0\n",
    "\n",
    "extra_pay = 0.5 * rate * extra_time\n",
    "\n",
    "pay = hours * rate + extra_pay\n",
    "\n",
    "print ('Pay: '),\n",
    "print pay"
   ]
  },
  {
   "cell_type": "code",
   "execution_count": 25,
   "metadata": {},
   "outputs": [
    {
     "ename": "SyntaxError",
     "evalue": "EOL while scanning string literal (<ipython-input-25-05fec570f4bd>, line 2)",
     "output_type": "error",
     "traceback": [
      "\u001b[1;36m  File \u001b[1;32m\"<ipython-input-25-05fec570f4bd>\"\u001b[1;36m, line \u001b[1;32m2\u001b[0m\n\u001b[1;33m    h=int(input('enter hours:\"))\u001b[0m\n\u001b[1;37m                                ^\u001b[0m\n\u001b[1;31mSyntaxError\u001b[0m\u001b[1;31m:\u001b[0m EOL while scanning string literal\n"
     ]
    }
   ],
   "source": [
    "try:\n",
    "    h=int(input('enter hours:\"))\n",
    "                if h<=40:\n",
    "                print(\"pay = \",40*10)\n",
    "                elif >40:\n",
    "                pay=pay+(h-40)10*1.5)\n",
    "except:\n",
    "    print(\"enter the  numeric values only\")"
   ]
  },
  {
   "cell_type": "code",
   "execution_count": 28,
   "metadata": {},
   "outputs": [
    {
     "ename": "IndentationError",
     "evalue": "unexpected indent (<ipython-input-28-fa93d3f53ab0>, line 2)",
     "output_type": "error",
     "traceback": [
      "\u001b[1;36m  File \u001b[1;32m\"<ipython-input-28-fa93d3f53ab0>\"\u001b[1;36m, line \u001b[1;32m2\u001b[0m\n\u001b[1;33m    if h<=40:\u001b[0m\n\u001b[1;37m    ^\u001b[0m\n\u001b[1;31mIndentationError\u001b[0m\u001b[1;31m:\u001b[0m unexpected indent\n"
     ]
    }
   ],
   "source": [
    "h=int(input(\"enter hours:\"))\n",
    "            if h<=40:\n",
    "                print(\"pay = \",40*10)\n",
    "                elif >40:\n",
    "                pay=pay+(h-40)10*1.5)\n",
    "    print(\"enter the  numeric values only\")"
   ]
  },
  {
   "cell_type": "code",
   "execution_count": 32,
   "metadata": {
    "scrolled": true
   },
   "outputs": [
    {
     "ename": "IndentationError",
     "evalue": "expected an indented block (<ipython-input-32-ab62a5257099>, line 3)",
     "output_type": "error",
     "traceback": [
      "\u001b[1;36m  File \u001b[1;32m\"<ipython-input-32-ab62a5257099>\"\u001b[1;36m, line \u001b[1;32m3\u001b[0m\n\u001b[1;33m    if h<=40:\u001b[0m\n\u001b[1;37m     ^\u001b[0m\n\u001b[1;31mIndentationError\u001b[0m\u001b[1;31m:\u001b[0m expected an indented block\n"
     ]
    }
   ],
   "source": [
    "h=int(input('enter the hours'))\n",
    "try:\n",
    "if h<=40:\n",
    "    print(\"pay=\",40*10)\n",
    "    elif >40:\n",
    "        pay=pay+(h-40)10*1.5)\n",
    "except:\n",
    "        print('enter the numeric values only')"
   ]
  },
  {
   "cell_type": "code",
   "execution_count": 44,
   "metadata": {},
   "outputs": [
    {
     "name": "stdout",
     "output_type": "stream",
     "text": [
      "enter the hours39\n"
     ]
    },
    {
     "ename": "TypeError",
     "evalue": "'hours' is an invalid keyword argument for print()",
     "output_type": "error",
     "traceback": [
      "\u001b[1;31m---------------------------------------------------------------------------\u001b[0m",
      "\u001b[1;31mTypeError\u001b[0m                                 Traceback (most recent call last)",
      "\u001b[1;32m<ipython-input-44-caab0a9e1fab>\u001b[0m in \u001b[0;36m<module>\u001b[1;34m\u001b[0m\n\u001b[0;32m      1\u001b[0m \u001b[0mh\u001b[0m\u001b[1;33m=\u001b[0m\u001b[0mint\u001b[0m\u001b[1;33m(\u001b[0m\u001b[0minput\u001b[0m\u001b[1;33m(\u001b[0m\u001b[1;34m'enter the hours'\u001b[0m\u001b[1;33m)\u001b[0m\u001b[1;33m)\u001b[0m\u001b[1;33m\u001b[0m\u001b[1;33m\u001b[0m\u001b[0m\n\u001b[0;32m      2\u001b[0m \u001b[1;32mif\u001b[0m \u001b[0mh\u001b[0m\u001b[1;33m<=\u001b[0m\u001b[1;36m40\u001b[0m\u001b[1;33m:\u001b[0m\u001b[1;33m\u001b[0m\u001b[1;33m\u001b[0m\u001b[0m\n\u001b[1;32m----> 3\u001b[1;33m     \u001b[0mprint\u001b[0m\u001b[1;33m(\u001b[0m\u001b[1;34m\"pay=\"\u001b[0m\u001b[1;33m,\u001b[0m\u001b[0mhours\u001b[0m\u001b[1;33m=\u001b[0m\u001b[1;36m40\u001b[0m\u001b[1;33m*\u001b[0m\u001b[1;36m10\u001b[0m\u001b[1;33m)\u001b[0m\u001b[1;33m\u001b[0m\u001b[1;33m\u001b[0m\u001b[0m\n\u001b[0m\u001b[0;32m      4\u001b[0m \u001b[1;32melif\u001b[0m \u001b[0mh\u001b[0m\u001b[1;33m>\u001b[0m\u001b[1;36m40\u001b[0m\u001b[1;33m:\u001b[0m\u001b[1;33m\u001b[0m\u001b[1;33m\u001b[0m\u001b[0m\n\u001b[0;32m      5\u001b[0m     \u001b[0mprint\u001b[0m\u001b[1;33m(\u001b[0m\u001b[1;34m\"pay=\"\u001b[0m\u001b[1;33m+\u001b[0m\u001b[0mh\u001b[0m\u001b[1;33m-\u001b[0m\u001b[1;36m40\u001b[0m\u001b[1;33m)\u001b[0m\u001b[1;33m\u001b[0m\u001b[1;33m\u001b[0m\u001b[0m\n",
      "\u001b[1;31mTypeError\u001b[0m: 'hours' is an invalid keyword argument for print()"
     ]
    }
   ],
   "source": [
    "h=int(input('enter the hours'))\n",
    "if h<=40:\n",
    "    print(\"pay=\",40*10)\n",
    "elif h>40:\n",
    "    print(\"pay=\"+h-40)\n",
    "print('done')"
   ]
  },
  {
   "cell_type": "code",
   "execution_count": null,
   "metadata": {},
   "outputs": [],
   "source": []
  }
 ],
 "metadata": {
  "kernelspec": {
   "display_name": "Python 3",
   "language": "python",
   "name": "python3"
  },
  "language_info": {
   "codemirror_mode": {
    "name": "ipython",
    "version": 3
   },
   "file_extension": ".py",
   "mimetype": "text/x-python",
   "name": "python",
   "nbconvert_exporter": "python",
   "pygments_lexer": "ipython3",
   "version": "3.7.4"
  }
 },
 "nbformat": 4,
 "nbformat_minor": 2
}
