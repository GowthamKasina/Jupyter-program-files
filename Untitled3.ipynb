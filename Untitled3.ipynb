{
 "cells": [
  {
   "cell_type": "markdown",
   "metadata": {},
   "source": [
    "# 20-03-2020\n"
   ]
  },
  {
   "cell_type": "code",
   "execution_count": 5,
   "metadata": {},
   "outputs": [
    {
     "name": "stdout",
     "output_type": "stream",
     "text": [
      "Enter string:hi hai\n",
      "Count of the vowels is: {'e', 'o', 'u', 'a', 'i'}\n",
      "3\n"
     ]
    }
   ],
   "source": [
    "s=input(\"Enter string:\")\n",
    "count = 0\n",
    "vowels = set(\"aeiou\")\n",
    "for letter in s:\n",
    "    if letter in vowels:\n",
    "        count += 1\n",
    "print(\"Count of the vowels is:\")\n",
    "print(count)"
   ]
  },
  {
   "cell_type": "code",
   "execution_count": 9,
   "metadata": {},
   "outputs": [
    {
     "name": "stdout",
     "output_type": "stream",
     "text": [
      "enter a string :  hi\n",
      "{'a': 0, 'e': 0, 'i': 1, 'o': 0, 'u': 0}\n"
     ]
    }
   ],
   "source": [
    "a =input(\"enter a string :  \")\n",
    "b = a.lower()\n",
    "counts = {}\n",
    "for vowel in \"aeiou\":\n",
    "    count = b.count(vowel)\n",
    "    counts[vowel] = count\n",
    "print(counts)"
   ]
  },
  {
   "cell_type": "code",
   "execution_count": null,
   "metadata": {},
   "outputs": [],
   "source": []
  }
 ],
 "metadata": {
  "kernelspec": {
   "display_name": "Python 3",
   "language": "python",
   "name": "python3"
  },
  "language_info": {
   "codemirror_mode": {
    "name": "ipython",
    "version": 3
   },
   "file_extension": ".py",
   "mimetype": "text/x-python",
   "name": "python",
   "nbconvert_exporter": "python",
   "pygments_lexer": "ipython3",
   "version": "3.7.4"
  }
 },
 "nbformat": 4,
 "nbformat_minor": 2
}
