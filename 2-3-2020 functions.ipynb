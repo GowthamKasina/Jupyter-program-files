{
 "cells": [
  {
   "cell_type": "code",
   "execution_count": 17,
   "metadata": {},
   "outputs": [
    {
     "name": "stdout",
     "output_type": "stream",
     "text": [
      "khaidi chiru 2000\n"
     ]
    },
    {
     "data": {
      "text/plain": [
       "'new'"
      ]
     },
     "execution_count": 17,
     "metadata": {},
     "output_type": "execute_result"
    }
   ],
   "source": [
    "def movie(album,artist,year):\n",
    "    if year>1990:\n",
    "        print(album,artist,year)\n",
    "        return \"new\"\n",
    "    else:\n",
    "        print(album,artist,year)\n",
    "        return \"old\"\n",
    "movie(\"khaidi\",\"chiru\",2000)\n",
    "\n"
   ]
  },
  {
   "cell_type": "code",
   "execution_count": 10,
   "metadata": {},
   "outputs": [
    {
     "name": "stdout",
     "output_type": "stream",
     "text": [
      "movie rating 5\n",
      "Super Block boster\n",
      "khaidi150 chiru 2000\n",
      "NEW MOVIE\n"
     ]
    }
   ],
   "source": [
    "def movie(album,artist,year,Rating):\n",
    "        if year>=2000:\n",
    "            print(album,artist,year)\n",
    "            print (\"NEW MOVIE\")\n",
    "                \n",
    "        else:\n",
    "            (year<2000)\n",
    "            print(album,artist,year)\n",
    "            print(\"OLD MOVIE\")\n",
    "            \n",
    "movie(\"khaidi150\",\"chiru\",2000,MOVIERATING(5))\n",
    "        "
   ]
  },
  {
   "cell_type": "code",
   "execution_count": 85,
   "metadata": {},
   "outputs": [
    {
     "name": "stdout",
     "output_type": "stream",
     "text": [
      "movie rating 5.1\n",
      "Super Block boster\n"
     ]
    }
   ],
   "source": [
    "def MOVIERATING(Rating):\n",
    "    try:\n",
    "        if Rating >=5:\n",
    "            print(\"movie rating\",Rating)\n",
    "            print(\"Super Block boster\")\n",
    "        else:\n",
    "            Rating<2\n",
    "            print(\"movie rating\",Rating)\n",
    "            print(\"FLOP\")\n",
    "    except:\n",
    "        Rating>5\n",
    "        print('\"Condition\"')\n",
    "        print(\"The rating will be Out if 5\")\n",
    "MOVIERATING(5.1)"
   ]
  },
  {
   "cell_type": "code",
   "execution_count": null,
   "metadata": {},
   "outputs": [],
   "source": []
  },
  {
   "cell_type": "code",
   "execution_count": null,
   "metadata": {},
   "outputs": [],
   "source": []
  }
 ],
 "metadata": {
  "kernelspec": {
   "display_name": "Python 3",
   "language": "python",
   "name": "python3"
  },
  "language_info": {
   "codemirror_mode": {
    "name": "ipython",
    "version": 3
   },
   "file_extension": ".py",
   "mimetype": "text/x-python",
   "name": "python",
   "nbconvert_exporter": "python",
   "pygments_lexer": "ipython3",
   "version": "3.7.4"
  }
 },
 "nbformat": 4,
 "nbformat_minor": 2
}
