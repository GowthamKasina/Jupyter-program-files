{
 "cells": [
  {
   "cell_type": "markdown",
   "metadata": {},
   "source": [
    "# 1) When squirrels get together for a party, they like to have cigars. A squirrel party is successful when the number of cigars is between 40 and 60, inclusive. Unless it is the weekend, in which case there is no upper bound on the number of cigars. Return True if the party with the given values is successful, or False otherwise.\n",
    "\n",
    "\n",
    "cigar_party(30, False) → False\n",
    "\n",
    "cigar_party(50, False) → True\n",
    "\n",
    "cigar_party(70, True) → True\n",
    "\n",
    "One approach begins with\n",
    "if is_weekend:\n",
    "  ...\n",
    "else:\n",
    "  ...\n",
    "In each section, check cigars with >=, <= etc. to return True if cigars is in range or else return False. Extra trick: for shorter code, note that \"return (x >= 50)\" automatically returns True if x >= 50 and False if x < 50. This works because the expression \"(x >= 50)\" evaluates to the value True or False, and then that value is returned."
   ]
  },
  {
   "cell_type": "code",
   "execution_count": 16,
   "metadata": {},
   "outputs": [
    {
     "data": {
      "text/plain": [
       "False"
      ]
     },
     "execution_count": 16,
     "metadata": {},
     "output_type": "execute_result"
    }
   ],
   "source": [
    "def cigar_party(cigars, is_weekend):\n",
    "    if is_weekend:\n",
    "        return cigars >= 40\n",
    "    return 40 <= cigars <= 60\n",
    "cigar_party(30, True) "
   ]
  },
  {
   "cell_type": "code",
   "execution_count": 22,
   "metadata": {},
   "outputs": [
    {
     "data": {
      "text/plain": [
       "False"
      ]
     },
     "execution_count": 22,
     "metadata": {},
     "output_type": "execute_result"
    }
   ],
   "source": [
    "def cigar_party1(cigars, is_weekend):\n",
    "    if is_weekend:\n",
    "        if cigars >= 40:\n",
    "            return True \n",
    "        else:\n",
    "            return False \n",
    "    else:\n",
    "        if cigars >= 40 and cigars <= 60:\n",
    "            return True \n",
    "        else:\n",
    "            return False\n",
    "cigar_party1(30, True) "
   ]
  },
  {
   "cell_type": "markdown",
   "metadata": {},
   "source": [
    "# 2) You and your date are trying to get a table at a restaurant. The parameter \"you\" is the stylishness of your clothes, in the range 0..10, and \"date\" is the stylishness of your date's clothes. The result getting the table is encoded as an int value with 0=no, 1=maybe, 2=yes. If either of you is very stylish, 8 or more, then the result is 2 (yes). With the exception that if either of you has style of 2 or less, then the result is 0 (no). Otherwise the result is 1 (maybe).\n",
    "\n",
    "\n",
    "date_fashion(5, 10) → 2\n",
    "\n",
    "date_fashion(5, 2) → 0\n",
    "\n",
    "date_fashion(5, 5) → 1"
   ]
  },
  {
   "cell_type": "code",
   "execution_count": 4,
   "metadata": {},
   "outputs": [
    {
     "data": {
      "text/plain": [
       "'0 means no table'"
      ]
     },
     "execution_count": 4,
     "metadata": {},
     "output_type": "execute_result"
    }
   ],
   "source": [
    "def date(boy,girl):\n",
    "    if boy in range(0,3):\n",
    "        return \"0 means no table\"\n",
    "    elif boy in range(3,9):\n",
    "        return \"1 means maybe he get table\"\n",
    "    elif boy in range(8,11):\n",
    "        return \"2 means yes he got table\"\n",
    "    elif girl in range(0,3):\n",
    "        return \"0 means no table\"\n",
    "    elif girl in range(3,9):\n",
    "        return \"1 means maybe she get table\"\n",
    "    elif boy in range(8,11):\n",
    "        return \"2 means yes she got table\"\n",
    "date(1,9)\n",
    "    "
   ]
  },
  {
   "cell_type": "code",
   "execution_count": 3,
   "metadata": {},
   "outputs": [
    {
     "data": {
      "text/plain": [
       "0"
      ]
     },
     "execution_count": 3,
     "metadata": {},
     "output_type": "execute_result"
    }
   ],
   "source": [
    "def date_fashion(you, date):\n",
    "    if you <= 2 or date <=2:\n",
    "        return 0\n",
    "    elif you >=8 or date >=8:\n",
    "        return 2\n",
    "    else:\n",
    "        return 1\n",
    "date_fashion(1,9) "
   ]
  },
  {
   "cell_type": "code",
   "execution_count": 6,
   "metadata": {},
   "outputs": [
    {
     "name": "stdout",
     "output_type": "stream",
     "text": [
      "May Be\n"
     ]
    }
   ],
   "source": [
    "def date_fashion(a,b):\n",
    "    if a in range(3,9) or b in range(3,9):\n",
    "        print(\"No\")\n",
    "    elif a in range(3) or b in range(3):\n",
    "        print(\"May Be\")\n",
    "    else:\n",
    "        a in range(9,11) or b in range(9,11)\n",
    "        print(\"Yes\")\n",
    "date_fashion(1,9)"
   ]
  },
  {
   "cell_type": "markdown",
   "metadata": {},
   "source": [
    "# 3) The squirrels in Palo Alto spend most of the day playing. In particular, they play if the temperature is between 60 and 90 (inclusive). Unless it is summer, then the upper limit is 100 instead of 90. Given an int temperature and a boolean is_summer, return True if the squirrels play and False otherwise.\n",
    "\n",
    "\n",
    "squirrel_play(70, False) → True\n",
    "\n",
    "squirrel_play(95, False) → False\n",
    "\n",
    "squirrel_play(95, True) → True"
   ]
  },
  {
   "cell_type": "code",
   "execution_count": 16,
   "metadata": {},
   "outputs": [],
   "source": [
    "def play(temp,summer):\n",
    "    if temp >=60 and temp <=90:\n",
    "        return \"its not summer  TRUE\"\n",
    "    elif temp >=91 and summer ==True:\n",
    "        return \"Summer False\"\n",
    "play(95,False)"
   ]
  },
  {
   "cell_type": "code",
   "execution_count": 17,
   "metadata": {},
   "outputs": [
    {
     "name": "stdout",
     "output_type": "stream",
     "text": [
      "We can't play\n"
     ]
    }
   ],
   "source": [
    "def robert(summer,temp):\n",
    "    if summer == False:\n",
    "        if temp>=60 and temp<=90:\n",
    "            print(\"It is not summer\")\n",
    "            print(\"we can play\")\n",
    "        else:\n",
    "            temp >90\n",
    "            print(\"We can't play\")\n",
    "    else:\n",
    "        summer == True\n",
    "        if temp>= 60 or temp<=90:\n",
    "            print(\"It is summer\")\n",
    "            print(\"we can play\")\n",
    "        else:\n",
    "            temp>90\n",
    "            print(\"It is summer \")\n",
    "            print(\"we can play\")\n",
    "robert(False,50)\n",
    "        "
   ]
  },
  {
   "cell_type": "code",
   "execution_count": 21,
   "metadata": {},
   "outputs": [
    {
     "data": {
      "text/plain": [
       "True"
      ]
     },
     "execution_count": 21,
     "metadata": {},
     "output_type": "execute_result"
    }
   ],
   "source": [
    "def squirrel_play(temp, is_summer):\n",
    "    upper = 90\n",
    "    if is_summer:\n",
    "        upper = 100\n",
    "    return(temp >= 60 and temp <= upper)\n",
    "squirrel_play(70, False)     "
   ]
  },
  {
   "cell_type": "markdown",
   "metadata": {},
   "source": [
    "# 4) You are driving a little too fast, and a police officer stops you. Write code to compute the result, encoded as an int value: 0=no ticket, 1=small ticket, 2=big ticket. If speed is 60 or less, the result is 0. If speed is between 61 and 80 inclusive, the result is 1. If speed is 81 or more, the result is 2. Unless it is your birthday -- on that day, your speed can be 5 higher in all cases.\n",
    "\n",
    "\n",
    "caught_speeding(60, False) → 0\n",
    "\n",
    "caught_speeding(65, False) → 1\n",
    "\n",
    "caught_speeding(65, True) → 0"
   ]
  },
  {
   "cell_type": "code",
   "execution_count": 26,
   "metadata": {},
   "outputs": [],
   "source": [
    "def police(speed,ticket):\n",
    "    if speed<=60+5 and ticket == False:\n",
    "        return 0\n",
    "    elif speed>=61+5 and speed <= 80+5 and ticket == True:\n",
    "        return 1\n",
    "    elif speed>=81+5 and ticket == True:\n",
    "        return 2\n",
    "police(60,True)"
   ]
  },
  {
   "cell_type": "code",
   "execution_count": 35,
   "metadata": {},
   "outputs": [
    {
     "data": {
      "text/plain": [
       "False"
      ]
     },
     "execution_count": 35,
     "metadata": {},
     "output_type": "execute_result"
    }
   ],
   "source": [
    "def caught_speeding(speed, is_birthday):\n",
    "    gift = 0\n",
    "    if is_birthday:\n",
    "        gift = 5\n",
    "        if speed <= 60+gift:\n",
    "            return 0 \n",
    "        elif speed >= 81+gift:\n",
    "            return 2\n",
    "        else:\n",
    "            return 1\n",
    "    return False\n",
    "caught_speeding(65,False)"
   ]
  },
  {
   "cell_type": "code",
   "execution_count": 38,
   "metadata": {},
   "outputs": [
    {
     "data": {
      "text/plain": [
       "0"
      ]
     },
     "execution_count": 38,
     "metadata": {},
     "output_type": "execute_result"
    }
   ],
   "source": [
    "def caught_speeding1(speed, is_birthday):\n",
    "    speeding = speed - (65 if is_birthday else 60)\n",
    "    if speeding > 20:\n",
    "        return 2\n",
    "    elif speeding > 0:\n",
    "        return 1\n",
    "    else:\n",
    "        return 0\n",
    "caught_speeding1(60,True)"
   ]
  },
  {
   "cell_type": "markdown",
   "metadata": {},
   "source": [
    "# 5) Given 2 ints, a and b, return their sum. However, sums in the range 10..19 inclusive, are forbidden, so in that case just return 20.\n",
    "\n",
    "\n",
    "sorta_sum(3, 4) → 7\n",
    "\n",
    "sorta_sum(9, 4) → 20\n",
    "\n",
    "sorta_sum(10, 11) → 21"
   ]
  },
  {
   "cell_type": "code",
   "execution_count": 41,
   "metadata": {},
   "outputs": [
    {
     "data": {
      "text/plain": [
       "21"
      ]
     },
     "execution_count": 41,
     "metadata": {},
     "output_type": "execute_result"
    }
   ],
   "source": [
    "def sorta_sum(a,b):\n",
    "    total = a+b\n",
    "    if total > 9 and total < 20:\n",
    "        return 20\n",
    "    else:\n",
    "        return total\n",
    "sorta_sum(10, 11)"
   ]
  },
  {
   "cell_type": "code",
   "execution_count": 44,
   "metadata": {},
   "outputs": [
    {
     "data": {
      "text/plain": [
       "7"
      ]
     },
     "execution_count": 44,
     "metadata": {},
     "output_type": "execute_result"
    }
   ],
   "source": [
    "def sorta_sum1(a,b):\n",
    "    if a+b in range(10,20):\n",
    "        return 20\n",
    "    else:\n",
    "        a+b\n",
    "sorta_sum(3,4)   "
   ]
  },
  {
   "cell_type": "markdown",
   "metadata": {},
   "source": [
    "# 6) Given a day of the week encoded as 0=Sun, 1=Mon, 2=Tue, ...6=Sat, and a boolean indicating if we are on vacation, return a string of the form \"7:00\" indicating when the alarm clock should ring. Weekdays, the alarm should be \"7:00\" and on the weekend it should be \"10:00\". Unless we are on vacation -- then on weekdays it should be \"10:00\" and weekends it should be \"off\".\n",
    "\n",
    "\n",
    "alarm_clock(1, False) → '7:00'\n",
    "\n",
    "alarm_clock(5, False) → '7:00'\n",
    "\n",
    "alarm_clock(0, False) → '10:00'"
   ]
  },
  {
   "cell_type": "markdown",
   "metadata": {},
   "source": [
    "# https://codereview.stackexchange.com/questions/96478/alarm-clock-printing"
   ]
  },
  {
   "cell_type": "code",
   "execution_count": null,
   "metadata": {},
   "outputs": [],
   "source": [
    "def peanut(vacation,weekdays):\n",
    "    if vacation == True:\n",
    "        if weekdays == True:\n",
    "            print(\"ALram at 10:00\")\n",
    "        else:\n",
    "            print(\"Alaram at 10:00\")\n",
    "    else:\n",
    "        vacation == False\n",
    "        if weekdays == True:\n",
    "            print(\"Alaram at 7:00\")\n",
    "        else:\n",
    "            print(\"Alaram is OFF\")\n",
    "peanut(True,True)"
   ]
  },
  {
   "cell_type": "code",
   "execution_count": 55,
   "metadata": {},
   "outputs": [
    {
     "ename": "SyntaxError",
     "evalue": "invalid syntax (<ipython-input-55-06fbe1ecdd3f>, line 5)",
     "output_type": "error",
     "traceback": [
      "\u001b[1;36m  File \u001b[1;32m\"<ipython-input-55-06fbe1ecdd3f>\"\u001b[1;36m, line \u001b[1;32m5\u001b[0m\n\u001b[1;33m    elif:\u001b[0m\n\u001b[1;37m        ^\u001b[0m\n\u001b[1;31mSyntaxError\u001b[0m\u001b[1;31m:\u001b[0m invalid syntax\n"
     ]
    }
   ],
   "source": [
    "def peanut(vacation,weekdays):\n",
    "    if vacation == True:\n",
    "        if weekdays == True:\n",
    "            print(\"ALram at 10:00\")\n",
    "        elif:\n",
    "            print(\"Alaram at 10:00\")\n",
    "        else:\n",
    "            vacation == False\n",
    "    else:\n",
    "        if weedays in range(0,6):\n",
    "            if weekdays == True:\n",
    "                print(\"Alaram at 7:00\")\n",
    "            else:\n",
    "                print(\"Alaram is OFF\")\n",
    "peanut(False,True)"
   ]
  },
  {
   "cell_type": "markdown",
   "metadata": {},
   "source": [
    "# 7) The number 6 is a truly great number. Given two int values, a and b, return True if either one is 6. Or if their sum or difference is 6. Note: the function abs(num) computes the absolute value of a number.\n",
    "\n",
    "\n",
    "love6(6, 4) → True\n",
    "\n",
    "love6(4, 5) → False\n",
    "\n",
    "love6(1, 5) → True"
   ]
  },
  {
   "cell_type": "code",
   "execution_count": 51,
   "metadata": {},
   "outputs": [
    {
     "data": {
      "text/plain": [
       "True"
      ]
     },
     "execution_count": 51,
     "metadata": {},
     "output_type": "execute_result"
    }
   ],
   "source": [
    "def love6(a, b):\n",
    "    if a == 6 or b == 6 or a+b == 6 or a-b == 6 or a*b == 6:\n",
    "        return True\n",
    "    return False\n",
    "love6(3,2)"
   ]
  },
  {
   "cell_type": "markdown",
   "metadata": {},
   "source": [
    "# 8) Given a number n, return True if n is in the range 1..10, inclusive. Unless outside_mode is True, in which case return True if the number is less or equal to 1, or greater or equal to 10.\n",
    "\n",
    "\n",
    "in1to10(5, False) → True\n",
    "\n",
    "in1to10(11, False) → False\n",
    "\n",
    "in1to10(11, True) → True"
   ]
  },
  {
   "cell_type": "code",
   "execution_count": 58,
   "metadata": {},
   "outputs": [
    {
     "data": {
      "text/plain": [
       "True"
      ]
     },
     "execution_count": 58,
     "metadata": {},
     "output_type": "execute_result"
    }
   ],
   "source": [
    "def in1to10(n, outside_mode):\n",
    "    if outside_mode:\n",
    "        return n <= 1 or n >= 10\n",
    "    return 1 <= n <= 10\n",
    "in1to10(11, True)"
   ]
  },
  {
   "cell_type": "markdown",
   "metadata": {},
   "source": [
    "# 9) Given a non-negative number \"num\", return True if num is within 2 of a multiple of 10. Note: (a % b) is the remainder of dividing a by b, so (7 % 5) is 2. See also: Introduction to Mod\n",
    "\n",
    "\n",
    "near_ten(12) → True\n",
    "\n",
    "near_ten(17) → False\n",
    "\n",
    "near_ten(19) → True"
   ]
  },
  {
   "cell_type": "markdown",
   "metadata": {},
   "source": [
    "# https://codereview.stackexchange.com/questions/96467/return-true-if-num-is-within-2-of-a-multiple-of-10/96470"
   ]
  },
  {
   "cell_type": "code",
   "execution_count": 60,
   "metadata": {},
   "outputs": [
    {
     "data": {
      "text/plain": [
       "True"
      ]
     },
     "execution_count": 60,
     "metadata": {},
     "output_type": "execute_result"
    }
   ],
   "source": [
    "def near_ten(num):\n",
    "    return (num + 2) % 10 <= 4\n",
    "near_ten(12)"
   ]
  },
  {
   "cell_type": "code",
   "execution_count": 66,
   "metadata": {},
   "outputs": [
    {
     "data": {
      "text/plain": [
       "True"
      ]
     },
     "execution_count": 66,
     "metadata": {},
     "output_type": "execute_result"
    }
   ],
   "source": [
    "def near_ten(num):\n",
    "    if (num + 2) % 10 <= 4:\n",
    "        return True\n",
    "    return False\n",
    "near_ten(19)"
   ]
  },
  {
   "cell_type": "code",
   "execution_count": null,
   "metadata": {},
   "outputs": [],
   "source": []
  }
 ],
 "metadata": {
  "kernelspec": {
   "display_name": "Python 3",
   "language": "python",
   "name": "python3"
  },
  "language_info": {
   "codemirror_mode": {
    "name": "ipython",
    "version": 3
   },
   "file_extension": ".py",
   "mimetype": "text/x-python",
   "name": "python",
   "nbconvert_exporter": "python",
   "pygments_lexer": "ipython3",
   "version": "3.7.4"
  }
 },
 "nbformat": 4,
 "nbformat_minor": 2
}
