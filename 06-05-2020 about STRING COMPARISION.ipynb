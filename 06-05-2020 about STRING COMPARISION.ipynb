{
 "cells": [
  {
   "cell_type": "code",
   "execution_count": 4,
   "metadata": {},
   "outputs": [
    {
     "name": "stdout",
     "output_type": "stream",
     "text": [
      "your word,apple,comes before gowtham.\n"
     ]
    }
   ],
   "source": [
    "word ='apple'\n",
    "if word < 'gowtham':\n",
    "    print('your word,'+ word +',comes before gowtham.')\n",
    "elif word > 'gowtham':\n",
    "    print('your word,'+ word +',comes after gowtham.')\n",
    "else:\n",
    "    print('alright,gowtham.')"
   ]
  },
  {
   "cell_type": "code",
   "execution_count": 7,
   "metadata": {},
   "outputs": [
    {
     "name": "stdout",
     "output_type": "stream",
     "text": [
      "alright,gowtham.\n"
     ]
    }
   ],
   "source": [
    "word =='gowtham'\n",
    "if word < 'gowtham':\n",
    "    print('this condition true')\n",
    "elif word > 'gowtham':\n",
    "    print('this condition false')\n",
    "else:\n",
    "    print('alright,gowtham.')"
   ]
  },
  {
   "cell_type": "code",
   "execution_count": null,
   "metadata": {},
   "outputs": [],
   "source": [
    "STRING COMPARISION "
   ]
  }
 ],
 "metadata": {
  "kernelspec": {
   "display_name": "Python 3",
   "language": "python",
   "name": "python3"
  },
  "language_info": {
   "codemirror_mode": {
    "name": "ipython",
    "version": 3
   },
   "file_extension": ".py",
   "mimetype": "text/x-python",
   "name": "python",
   "nbconvert_exporter": "python",
   "pygments_lexer": "ipython3",
   "version": "3.7.4"
  }
 },
 "nbformat": 4,
 "nbformat_minor": 2
}
