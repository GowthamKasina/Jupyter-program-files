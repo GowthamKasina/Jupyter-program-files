{
 "cells": [
  {
   "cell_type": "code",
   "execution_count": 25,
   "metadata": {},
   "outputs": [
    {
     "name": "stdout",
     "output_type": "stream",
     "text": [
      "Enter the value of n : KKKK\n",
      "Please enter numeric value\n"
     ]
    }
   ],
   "source": [
    "def gowtham():\n",
    "    try:\n",
    "        n = int (input(\"Enter the value of n : \"))\n",
    "        for i in range(1,n+1):\n",
    "            for j in range(1, i+1):\n",
    "                print(\"0.1 \",end=\" \")\n",
    "            print()\n",
    "    except:\n",
    "        print(\"Please enter numeric value\")\n",
    "gowtham()"
   ]
  },
  {
   "cell_type": "code",
   "execution_count": 28,
   "metadata": {},
   "outputs": [
    {
     "name": "stdout",
     "output_type": "stream",
     "text": [
      "Enter the value of n : 5\n",
      "HELLO \n",
      "HELLO HELLO \n",
      "HELLO HELLO HELLO \n",
      "HELLO HELLO HELLO HELLO \n",
      "HELLO HELLO HELLO HELLO HELLO \n"
     ]
    }
   ],
   "source": [
    "def pattern():    \n",
    "    n = int (input(\"Enter the value of n : \"))\n",
    "    for i in range(1,n+1):\n",
    "        for j in range(1, i+1):\n",
    "            print(\"HELLO \",end=\"\")\n",
    "        print()\n",
    "pattern()"
   ]
  },
  {
   "cell_type": "code",
   "execution_count": 24,
   "metadata": {},
   "outputs": [
    {
     "name": "stdout",
     "output_type": "stream",
     "text": [
      "hello\n",
      "world\n"
     ]
    }
   ],
   "source": [
    "def thing():\n",
    "    print(\"hello\")\n",
    "    print(\"world\")\n",
    "thing()"
   ]
  },
  {
   "cell_type": "code",
   "execution_count": 21,
   "metadata": {},
   "outputs": [
    {
     "name": "stdout",
     "output_type": "stream",
     "text": [
      "hello\n",
      "world\n"
     ]
    }
   ],
   "source": [
    "thing()"
   ]
  },
  {
   "cell_type": "code",
   "execution_count": 35,
   "metadata": {},
   "outputs": [
    {
     "name": "stdout",
     "output_type": "stream",
     "text": [
      "Enter the value of n : 5\n",
      "* \n",
      "* * \n",
      "* * * \n",
      "* * * * \n",
      "* * * * * \n"
     ]
    }
   ],
   "source": [
    " def something():  \n",
    "    n = int (input(\"Enter the value of n : \"))\n",
    "    for i in range(1,n+1):\n",
    "        for j in range(1, i+1):\n",
    "            print(\"*\",end=\" \")\n",
    "        print()\n",
    "something()"
   ]
  },
  {
   "cell_type": "code",
   "execution_count": 4,
   "metadata": {},
   "outputs": [
    {
     "name": "stdout",
     "output_type": "stream",
     "text": [
      "Enter the value of n : 5\n",
      "*\n",
      "**\n",
      "***\n",
      "****\n",
      "*****\n"
     ]
    }
   ],
   "source": [
    "something()"
   ]
  },
  {
   "cell_type": "code",
   "execution_count": 15,
   "metadata": {},
   "outputs": [
    {
     "name": "stdout",
     "output_type": "stream",
     "text": [
      "Enter the value of n : 8\n",
      "*\n",
      "**\n",
      "***\n",
      "****\n",
      "*****\n",
      "******\n",
      "*******\n",
      "********\n"
     ]
    }
   ],
   "source": [
    "pattern()"
   ]
  },
  {
   "cell_type": "code",
   "execution_count": null,
   "metadata": {},
   "outputs": [],
   "source": [
    "def PATTERN ():\n",
    "    \n",
    "    n = int (input(\"Enter the value of n : \"))\n",
    "    for i in range(1,n+1):\n",
    "        for j in range(1, i+1):\n",
    "            print(\"HELLO \",end=\"\")\n",
    "        print()\n",
    "pattern()"
   ]
  },
  {
   "cell_type": "code",
   "execution_count": 29,
   "metadata": {},
   "outputs": [
    {
     "name": "stdout",
     "output_type": "stream",
     "text": [
      "Enter the value of n : 5\n",
      "HELLO \n",
      "HELLO HELLO \n",
      "HELLO HELLO HELLO \n",
      "HELLO HELLO HELLO HELLO \n",
      "HELLO HELLO HELLO HELLO HELLO \n"
     ]
    }
   ],
   "source": [
    "pattern()"
   ]
  },
  {
   "cell_type": "code",
   "execution_count": 2,
   "metadata": {},
   "outputs": [
    {
     "name": "stdout",
     "output_type": "stream",
     "text": [
      "Enter the value of n : 5\n",
      "*\n",
      "**\n",
      "***\n",
      "****\n",
      "*****\n"
     ]
    }
   ],
   "source": [
    "gowtham()"
   ]
  },
  {
   "cell_type": "code",
   "execution_count": 26,
   "metadata": {},
   "outputs": [
    {
     "name": "stdout",
     "output_type": "stream",
     "text": [
      "Enter the value of n : KK\n",
      "Please enter numeric value\n"
     ]
    }
   ],
   "source": [
    "gowtham()\n"
   ]
  },
  {
   "cell_type": "code",
   "execution_count": 24,
   "metadata": {},
   "outputs": [
    {
     "name": "stdout",
     "output_type": "stream",
     "text": [
      "enter the single char or symbol:9\n",
      "57\n"
     ]
    }
   ],
   "source": [
    "b=input(\"enter the single char or symbol:\")\n",
    "asciitable= ord(b)\n",
    "print(asciitable)"
   ]
  },
  {
   "cell_type": "code",
   "execution_count": 27,
   "metadata": {},
   "outputs": [
    {
     "name": "stdout",
     "output_type": "stream",
     "text": [
      "hello \n",
      "hello hello \n",
      "hello hello hello \n"
     ]
    }
   ],
   "source": [
    "def m1(x):\n",
    "    for i in range(1,x+1):\n",
    "        for j in range(1,i+1):\n",
    "            print(\"hello\" , end=\" \")\n",
    "        print()\n",
    "    \n",
    "m1(3)"
   ]
  },
  {
   "cell_type": "code",
   "execution_count": 29,
   "metadata": {},
   "outputs": [
    {
     "name": "stdout",
     "output_type": "stream",
     "text": [
      "hello \n",
      "hello hello \n",
      "hello hello hello \n",
      "hello hello hello hello \n",
      "hello hello hello hello hello \n",
      "hello hello hello hello hello hello \n"
     ]
    }
   ],
   "source": [
    "m1(6)"
   ]
  },
  {
   "cell_type": "code",
   "execution_count": null,
   "metadata": {},
   "outputs": [],
   "source": []
  }
 ],
 "metadata": {
  "kernelspec": {
   "display_name": "Python 3",
   "language": "python",
   "name": "python3"
  },
  "language_info": {
   "codemirror_mode": {
    "name": "ipython",
    "version": 3
   },
   "file_extension": ".py",
   "mimetype": "text/x-python",
   "name": "python",
   "nbconvert_exporter": "python",
   "pygments_lexer": "ipython3",
   "version": "3.7.4"
  }
 },
 "nbformat": 4,
 "nbformat_minor": 2
}
