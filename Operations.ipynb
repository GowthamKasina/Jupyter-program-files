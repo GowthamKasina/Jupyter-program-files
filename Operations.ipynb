{
 "cells": [
  {
   "cell_type": "code",
   "execution_count": null,
   "metadata": {},
   "outputs": [],
   "source": [
    "a=int(input('Enter first number'))\n",
    "b=int(input('Enter second number'))\n",
    "print('Select below operations')\n",
    "print('1 for addition')\n",
    "print('2 for multiplication')\n",
    "\n",
    "sel=input('select')\n",
    "\n",
    "if sel=='1':\n",
    "    \n",
    "    print(a+b)\n",
    "#elif sel=='2':\n",
    "    #print(a-b)\n",
    "else:\n",
    "    print(a*b)\n",
    "    "
   ]
  },
  {
   "cell_type": "code",
   "execution_count": null,
   "metadata": {},
   "outputs": [],
   "source": []
  }
 ],
 "metadata": {
  "kernelspec": {
   "display_name": "Python 3",
   "language": "python",
   "name": "python3"
  },
  "language_info": {
   "codemirror_mode": {
    "name": "ipython",
    "version": 3
   },
   "file_extension": ".py",
   "mimetype": "text/x-python",
   "name": "python",
   "nbconvert_exporter": "python",
   "pygments_lexer": "ipython3",
   "version": "3.7.4"
  }
 },
 "nbformat": 4,
 "nbformat_minor": 2
}
