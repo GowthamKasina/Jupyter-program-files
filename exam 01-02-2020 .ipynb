{
 "cells": [
  {
   "cell_type": "markdown",
   "metadata": {},
   "source": [
    "# Qes 1"
   ]
  },
  {
   "cell_type": "code",
   "execution_count": 1,
   "metadata": {},
   "outputs": [
    {
     "name": "stdout",
     "output_type": "stream",
     "text": [
      "sagarsolutions\n"
     ]
    }
   ],
   "source": [
    "email=\"sagarsolutions@gmail.com\"\n",
    "x=email.find(\"s\")\n",
    "y=email.find(\"@\")\n",
    "print(email[x:y])\n"
   ]
  },
  {
   "cell_type": "markdown",
   "metadata": {},
   "source": [
    "# Qes 2"
   ]
  },
  {
   "cell_type": "code",
   "execution_count": 3,
   "metadata": {},
   "outputs": [
    {
     "name": "stdout",
     "output_type": "stream",
     "text": [
      "enter string:hjhtr4y5\n",
      "[4, 5]\n"
     ]
    }
   ],
   "source": [
    "import re\n",
    "inp=input(\"enter string:\")\n",
    "x=re.finditer('[0-9]',inp)\n",
    "y=[int(e.group()) for e in x]\n",
    "print(y)\n"
   ]
  },
  {
   "cell_type": "markdown",
   "metadata": {},
   "source": [
    "# Qes 3"
   ]
  },
  {
   "cell_type": "code",
   "execution_count": null,
   "metadata": {},
   "outputs": [],
   "source": [
    "import re\n",
    "data=input(\"enter the data including numbers\")\n",
    "numbers=re.finditer(\"[0-9]\",data)\n",
    "for number in numbers:\n",
    "    print(number.group(),end=\" \")"
   ]
  },
  {
   "cell_type": "markdown",
   "metadata": {},
   "source": [
    "# Qes 4,5"
   ]
  },
  {
   "cell_type": "code",
   "execution_count": 7,
   "metadata": {},
   "outputs": [
    {
     "name": "stdout",
     "output_type": "stream",
     "text": [
      "binary of: 12 is:- 0b1100\n",
      "decimal of: 0b1100 is:- 12\n"
     ]
    }
   ],
   "source": [
    "decimal=12\n",
    "x=bin(decimal)\n",
    "print(\"binary of:\",decimal,\"is:-\",x)\n",
    "y=int(0b1100)\n",
    "print(\"decimal of:\",x,\"is:-\",y)"
   ]
  },
  {
   "cell_type": "markdown",
   "metadata": {},
   "source": [
    "# Qes 6"
   ]
  },
  {
   "cell_type": "code",
   "execution_count": null,
   "metadata": {},
   "outputs": [],
   "source": [
    "n=10\n",
    "for r in range(n):\n",
    "    print(\"* \"*(r))   \n",
    "for c in range(n):\n",
    "        print(\"* \"*(n-c))"
   ]
  },
  {
   "cell_type": "markdown",
   "metadata": {},
   "source": [
    "# Qes 7"
   ]
  },
  {
   "cell_type": "code",
   "execution_count": null,
   "metadata": {},
   "outputs": [],
   "source": [
    "for i in range(10):\n",
    "    print(str(i)*i)"
   ]
  },
  {
   "cell_type": "markdown",
   "metadata": {},
   "source": [
    "# Qes 8"
   ]
  },
  {
   "cell_type": "code",
   "execution_count": null,
   "metadata": {},
   "outputs": [],
   "source": [
    "words=input(\"enter words with comma(,):\").split(\",\")\n",
    "print(sorted(words))"
   ]
  },
  {
   "cell_type": "markdown",
   "metadata": {},
   "source": [
    "# Qes 9"
   ]
  },
  {
   "cell_type": "code",
   "execution_count": null,
   "metadata": {},
   "outputs": [],
   "source": [
    "inp=input(\"enter values with comma:\").split(\",\")\n",
    "num=(int(e) for e in inp)\n",
    "for i in num:\n",
    "    if i%2!=0:\n",
    "        print(i,end=\" \")\n",
    "        "
   ]
  },
  {
   "cell_type": "markdown",
   "metadata": {},
   "source": [
    "# Qes 10"
   ]
  },
  {
   "cell_type": "code",
   "execution_count": null,
   "metadata": {},
   "outputs": [],
   "source": [
    "net_amount= 0\n",
    "while True:\n",
    "    inp=input(\"Enter transaction:\")\n",
    "    transaction=inp.split()\n",
    "    \n",
    "    type=transaction[0]\n",
    "    amount=int(transaction[1])\n",
    "    if type==\"D\" or type==\"d\":\n",
    "        net_amount=net_amount+amount\n",
    "    elif type==\"W\" or type==\"w\":\n",
    "        net_amount=net_amount-amount\n",
    "    else:pass\n",
    "    inp=input(\"want to continue y for (yes) \")\n",
    "    if not (inp[0]==\"Y\" or inp[0]==\"y\"):break\n",
    "        \n",
    "print(net_amount)   \n",
    "    "
   ]
  },
  {
   "cell_type": "markdown",
   "metadata": {},
   "source": [
    "# Qes 11"
   ]
  },
  {
   "cell_type": "code",
   "execution_count": null,
   "metadata": {},
   "outputs": [
    {
     "name": "stdout",
     "output_type": "stream",
     "text": [
      "Enter a word: 9\n",
      "Invailed\n"
     ]
    }
   ],
   "source": [
    "def pyg_latin():\n",
    "    pyg = 'ay'\n",
    "    original = input('Enter a word: ')\n",
    "\n",
    "    if len(original) > 0 and original.isalpha():\n",
    "        word = original.lower()\n",
    "        first = word[0]\n",
    "        new_word = word + first + pyg\n",
    "        new_word = new_word[1:len(new_word)]\n",
    "        print(new_word)\n",
    "    else:\n",
    "        print(\"Invailed\")\n",
    "        pyg_latin()\n",
    "pyg_latin()"
   ]
  },
  {
   "cell_type": "markdown",
   "metadata": {},
   "source": [
    "# QES 12"
   ]
  },
  {
   "cell_type": "code",
   "execution_count": null,
   "metadata": {},
   "outputs": [],
   "source": [
    "i=float(input(\"enter score:\"))\n",
    "if i>=0.90 and i<1.0:\n",
    "    print(\"A\")\n",
    "elif i>=0.8 and i<0.89:\n",
    "    print(\"B\")\n",
    "elif i>=0.7 and i<0.79:\n",
    "    print(\"c\")\n",
    "elif i>=0.6 and i<0.69:\n",
    "    print(\"D\")\n",
    "else:\n",
    "    print(\"F\")"
   ]
  },
  {
   "cell_type": "markdown",
   "metadata": {},
   "source": [
    "# QES 13"
   ]
  },
  {
   "cell_type": "code",
   "execution_count": null,
   "metadata": {},
   "outputs": [],
   "source": [
    "cm=44.50\n",
    "rt=6.75\n",
    "tip=15\n",
    "cmrt=(cm*rt/100)+cm\n",
    "#print(cmrt)\n",
    "cmtip=cmrt*tip/100\n",
    "print(cmtip)"
   ]
  },
  {
   "cell_type": "markdown",
   "metadata": {},
   "source": [
    "# qes 14"
   ]
  },
  {
   "cell_type": "code",
   "execution_count": null,
   "metadata": {},
   "outputs": [],
   "source": [
    "import datetime\n",
    "x=datetime.datetime.now()\n",
    "print(x.strftime(\"%m/%d/%Y %I:%M:%S\"))"
   ]
  },
  {
   "cell_type": "markdown",
   "metadata": {},
   "source": [
    "# Qes 15"
   ]
  },
  {
   "cell_type": "code",
   "execution_count": null,
   "metadata": {},
   "outputs": [],
   "source": [
    "cel=float(input(\"Enter temperature in celsius:\"))\n",
    "far=cel*9/5+32\n",
    "print(\"Fahrenheit of\",cel,\"Celsius is:\",far)\n",
    "          "
   ]
  },
  {
   "cell_type": "markdown",
   "metadata": {},
   "source": [
    "# Qes 16"
   ]
  },
  {
   "cell_type": "code",
   "execution_count": null,
   "metadata": {},
   "outputs": [],
   "source": [
    "def hotel_cost(nights):\n",
    "    return 140*nights\n",
    "def plane_ride_cost(city):\n",
    "    if city==\"Charlotte\":\n",
    "        return 183\n",
    "    elif city==\"Tampa\":\n",
    "        return 220\n",
    "    elif city==\"Pitsburgh\":\n",
    "        return 222\n",
    "    elif city==\"Los Angeles\":\n",
    "        return 475\n",
    "    else:\n",
    "        return \"In valid city\"\n",
    "def rental_car_cost(days):\n",
    "    cost=days*40\n",
    "    if days>=7:\n",
    "        cost-=50\n",
    "    elif days>=3:\n",
    "        cost-=20\n",
    "    return cost\n",
    "def trip_cost(city,days,spending_money):\n",
    "    return rental_car_cost(days)+hotel_cost(days)+plane_ride_cost(city)+spending_money\n",
    "\n",
    "trip_cost(\"Los Angeles\",8,1)"
   ]
  },
  {
   "cell_type": "markdown",
   "metadata": {},
   "source": [
    "# Qes 17"
   ]
  },
  {
   "cell_type": "code",
   "execution_count": null,
   "metadata": {},
   "outputs": [],
   "source": [
    "groceries=[\"banana\",\"orange\",\"apple\"]\n",
    "stock={\"banana\":6,\"apple\":0,\"orange\":32,\"pear\":15}\n",
    "prices={\"banana\":4,\"apple\":2,\"orange\":1.5,\"pear\":3}\n",
    "def compute_bill(food):\n",
    "    total=0\n",
    "    for item in food:\n",
    "        if stock[item]>0:\n",
    "            total+=prices[item]\n",
    "            stock[item]-=1\n",
    "    return total\n",
    "\n",
    "compute_bill(groceries)        "
   ]
  },
  {
   "cell_type": "markdown",
   "metadata": {},
   "source": [
    "# Qes 18"
   ]
  },
  {
   "cell_type": "code",
   "execution_count": null,
   "metadata": {},
   "outputs": [],
   "source": [
    "inventory={\"gold\":500,\"pouch\":[\"flint\",\"twine\",\"gemstone\"],\"backpack\":[\"xylophone\",\"dagger\",\"bread loaf\"]}\n",
    "inventory[\"pocket\"]=[\"seashell\",\"strange berry\",\"lint\"]\n",
    "inventory[\"backpack\"].sort()\n",
    "inventory[\"backpack\"].remove(\"dagger\")\n",
    "inventory[\"gold\"]=50\n",
    "print(inventory)"
   ]
  },
  {
   "cell_type": "markdown",
   "metadata": {},
   "source": [
    "# Qes 19"
   ]
  },
  {
   "cell_type": "code",
   "execution_count": 4,
   "metadata": {},
   "outputs": [
    {
     "data": {
      "text/plain": [
       "[1, 3, 5, 7, 9]"
      ]
     },
     "execution_count": 4,
     "metadata": {},
     "output_type": "execute_result"
    }
   ],
   "source": [
    "mylist=[x for x in range(1,11)]\n",
    "mylist[::2]"
   ]
  },
  {
   "cell_type": "markdown",
   "metadata": {},
   "source": [
    "# Qes 20"
   ]
  },
  {
   "cell_type": "code",
   "execution_count": 5,
   "metadata": {},
   "outputs": [
    {
     "data": {
      "text/plain": [
       "[10, 9, 8, 7, 6, 5, 4, 3, 2, 1]"
      ]
     },
     "execution_count": 5,
     "metadata": {},
     "output_type": "execute_result"
    }
   ],
   "source": [
    "mylist[::-1]"
   ]
  }
 ],
 "metadata": {
  "kernelspec": {
   "display_name": "Python 3",
   "language": "python",
   "name": "python3"
  },
  "language_info": {
   "codemirror_mode": {
    "name": "ipython",
    "version": 3
   },
   "file_extension": ".py",
   "mimetype": "text/x-python",
   "name": "python",
   "nbconvert_exporter": "python",
   "pygments_lexer": "ipython3",
   "version": "3.7.4"
  }
 },
 "nbformat": 4,
 "nbformat_minor": 2
}
