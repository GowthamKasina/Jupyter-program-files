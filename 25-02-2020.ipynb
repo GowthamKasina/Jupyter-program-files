{
 "cells": [
  {
   "cell_type": "code",
   "execution_count": null,
   "metadata": {},
   "outputs": [],
   "source": [
    "h=int(input('enter the hours'))\n",
    "if h<=40:\n",
    "    #pay=40 * 10#upto 40 hours\n",
    "    print(40 * 10)\n",
    "elif h>40:\n",
    "    print(h-40)\n",
    "print(\"enter the  numeric values only\")"
   ]
  },
  {
   "cell_type": "code",
   "execution_count": 9,
   "metadata": {},
   "outputs": [
    {
     "name": "stdout",
     "output_type": "stream",
     "text": [
      "enter hours45\n",
      "enter rate10\n",
      "5\n",
      "enter numeric values only\n"
     ]
    }
   ],
   "source": [
    "try: \n",
    "    hours = int(input(\"enter hours\"))\n",
    "    rate = int(input(\"enter rate\"))\n",
    "    if hours>40:\n",
    "        extratime=hours-40\n",
    "        print(extratime)\n",
    "        \n",
    "    else:\n",
    "        extratime=0\n",
    "        print(extratime)\n",
    "        Pay=1.5*rate*extratime\n",
    "        pay_2=hours*rate+pay  \n",
    "        print(pay_2)\n",
    "    \n",
    "except:\n",
    "    print('enter numeric values only')"
   ]
  },
  {
   "cell_type": "code",
   "execution_count": 2,
   "metadata": {},
   "outputs": [
    {
     "name": "stdout",
     "output_type": "stream",
     "text": [
      "Enter the values between 0.0 to 1.0 :-0.1\n",
      "GIVE SOME SUITABLE POSITIVE VALUE\n"
     ]
    }
   ],
   "source": [
    "try:\n",
    "    score=float(input(\"Enter the values between 0.0 to 1.0 :\"))\n",
    "    if (score>1.0):\n",
    "        print(\"out of the range error\")\n",
    "    elif score==1.0:\n",
    "        print(\"A\")\n",
    "    elif score==0.9:\n",
    "        print(\"B\")\n",
    "    elif score==0.8:\n",
    "        print(\"C\")\n",
    "    elif score==0.7:\n",
    "        print(\"D\")\n",
    "    elif score==0.6:\n",
    "        print(\"E\")\n",
    "    elif score==0.5:\n",
    "        print(\"F\")\n",
    "    elif score==0.4:\n",
    "        print(\"G\")\n",
    "    elif score==0.3:\n",
    "        print(\"H\")\n",
    "    elif score==0.2:\n",
    "        print(\"I\")\n",
    "    elif score==0.1:\n",
    "        print(\"J\")\n",
    "    elif score==0.0:\n",
    "        print(\"K\")\n",
    "    else:\n",
    "        score<0.0\n",
    "        print(\"GIVE SOME SUITABLE POSITIVE VALUE\")\n",
    "except:\n",
    "    print(\"Please enter the numerical value\")"
   ]
  },
  {
   "cell_type": "code",
   "execution_count": 12,
   "metadata": {},
   "outputs": [
    {
     "data": {
      "text/plain": [
       "'a'"
      ]
     },
     "execution_count": 12,
     "metadata": {},
     "output_type": "execute_result"
    }
   ],
   "source": [
    "min('zebra')\n"
   ]
  },
  {
   "cell_type": "code",
   "execution_count": null,
   "metadata": {},
   "outputs": [],
   "source": [
    "big = max('')"
   ]
  }
 ],
 "metadata": {
  "kernelspec": {
   "display_name": "Python 3",
   "language": "python",
   "name": "python3"
  },
  "language_info": {
   "codemirror_mode": {
    "name": "ipython",
    "version": 3
   },
   "file_extension": ".py",
   "mimetype": "text/x-python",
   "name": "python",
   "nbconvert_exporter": "python",
   "pygments_lexer": "ipython3",
   "version": "3.7.4"
  }
 },
 "nbformat": 4,
 "nbformat_minor": 2
}
