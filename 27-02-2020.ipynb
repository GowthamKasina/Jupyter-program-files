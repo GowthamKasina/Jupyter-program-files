{
 "cells": [
  {
   "cell_type": "code",
   "execution_count": 6,
   "metadata": {},
   "outputs": [
    {
     "name": "stdout",
     "output_type": "stream",
     "text": [
      "Enter first number2\n",
      "Enter second number2\n",
      "Select below operations\n",
      "1 for addition\n",
      "2 for multiplication\n",
      "select3\n",
      "1.0\n"
     ]
    }
   ],
   "source": [
    "a=int(input('Enter first number'))\n",
    "b=int(input('Enter second number'))\n",
    "print('Select below operations')\n",
    "print('1 for addition')\n",
    "print('2 for multiplication')\n",
    "sel=input('select')\n",
    "\n",
    "if sel=='1':\n",
    "    print(a+b)\n",
    "elif sel=='2':\n",
    "    print(a-b)\n",
    "elif sel=='3':\n",
    "    print(a/b)\n",
    "else:\n",
    "    print(a*b)"
   ]
  },
  {
   "cell_type": "code",
   "execution_count": 4,
   "metadata": {},
   "outputs": [
    {
     "name": "stdout",
     "output_type": "stream",
     "text": [
      "Enter First Number: 2\n",
      "Enter Second Number: 3\n",
      "Enter which operation would you like to perform?\n",
      "Enter any of these char for specific operation +,-,*,/: +\n",
      "2 + 3 : 5\n"
     ]
    }
   ],
   "source": [
    "num1 = int(input(\"Enter First Number: \"))\n",
    "num2 = int(input(\"Enter Second Number: \"))\n",
    "\n",
    "print(\"Enter which operation would you like to perform?\")\n",
    "ch = input(\"Enter any of these char for specific operation +,-,*,/: \")\n",
    "\n",
    "result = 0\n",
    "if ch == '+':\n",
    "    result = num1 + num2\n",
    "elif ch == '-':\n",
    "    result = num1 - num2\n",
    "elif ch == '*':\n",
    "    result = num1 * num2\n",
    "elif ch == '/':\n",
    "    result = num1 / num2\n",
    "else:\n",
    "    print(\"Input character is not recognized!\")\n",
    "\n",
    "print(num1, ch , num2, \":\", result)"
   ]
  },
  {
   "cell_type": "code",
   "execution_count": null,
   "metadata": {},
   "outputs": [],
   "source": [
    "a=input(\"enter the single char or symbol:\")\n",
    "vs_value = ord(a)\n",
    "print(vs_value)"
   ]
  },
  {
   "cell_type": "code",
   "execution_count": null,
   "metadata": {},
   "outputs": [],
   "source": [
    "ascii = int(input(\"enter ascii value from 65-90 or 97-122 to find character:\"))\n",
    "character_symbol=chr(ascii)\n",
    "print(character_symbol)"
   ]
  }
 ],
 "metadata": {
  "kernelspec": {
   "display_name": "Python 3",
   "language": "python",
   "name": "python3"
  }
 },
 "nbformat": 4,
 "nbformat_minor": 2
}
