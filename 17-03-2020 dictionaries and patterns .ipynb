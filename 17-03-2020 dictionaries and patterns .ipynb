{
 "cells": [
  {
   "cell_type": "markdown",
   "metadata": {},
   "source": [
    "# 17-03-2020 dictionaries and patterns (\"*\",\"123456789\")"
   ]
  },
  {
   "cell_type": "code",
   "execution_count": 1,
   "metadata": {},
   "outputs": [
    {
     "data": {
      "text/plain": [
       "140730600956432"
      ]
     },
     "execution_count": 1,
     "metadata": {},
     "output_type": "execute_result"
    }
   ],
   "source": [
    "num=5\n",
    "id(num)"
   ]
  },
  {
   "cell_type": "code",
   "execution_count": 3,
   "metadata": {},
   "outputs": [
    {
     "name": "stdout",
     "output_type": "stream",
     "text": [
      "{'zen': 5, 'marqurd': 3, 'swen': 3}\n"
     ]
    }
   ],
   "source": [
    "g = dict()\n",
    "g['zen'] = 5\n",
    "g['marqurd'] = 3\n",
    "g['swen'] = 3\n",
    "print(g)\n"
   ]
  },
  {
   "cell_type": "code",
   "execution_count": 3,
   "metadata": {},
   "outputs": [
    {
     "name": "stdout",
     "output_type": "stream",
     "text": [
      "csev\n",
      "cwen\n",
      "csev\n",
      "zqian\n",
      "cwen\n",
      "2\n"
     ]
    }
   ],
   "source": [
    "counts = {}\n",
    "names = ['csev','cwen','csev','zqian','cwen']\n",
    "for name in names:\n",
    "    if name not in counts:\n",
    "        print(name)\n",
    "        counts[name]=1\n",
    "    else:\n",
    "        counts[name]=counts[name]+1\n",
    "        print(name)\n",
    "print(counts.get(name,0))"
   ]
  },
  {
   "cell_type": "code",
   "execution_count": 27,
   "metadata": {},
   "outputs": [
    {
     "name": "stdout",
     "output_type": "stream",
     "text": [
      "{} 0\n"
     ]
    }
   ],
   "source": [
    "counts = dict()\n",
    "names = ['csev','cwen','csev','zqian','cwen']\n",
    "for name in names:\n",
    "    if name in counts:\n",
    "        #print(name)\n",
    "        x= counts[name]\n",
    "    else:\n",
    "        #print(name)\n",
    "        x=0\n",
    "        x=counts.get(name,0)\n",
    "print(counts,x)\n",
    "    "
   ]
  },
  {
   "cell_type": "code",
   "execution_count": 7,
   "metadata": {},
   "outputs": [
    {
     "name": "stdout",
     "output_type": "stream",
     "text": [
      "{'csev': 2, 'cwen': 2, 'zqian': 1}\n"
     ]
    }
   ],
   "source": [
    "counts={}\n",
    "names=['csev','cwen','csev','zqian','cwen']\n",
    "for i in names:\n",
    "    counts[i]=counts.get(i,0)+1\n",
    "print(counts)"
   ]
  },
  {
   "cell_type": "code",
   "execution_count": 6,
   "metadata": {},
   "outputs": [
    {
     "name": "stdout",
     "output_type": "stream",
     "text": [
      "{'zqian': 1, 'csev': 2, 'cwen': 2}\n"
     ]
    }
   ],
   "source": [
    "count=dict()\n",
    "names=['zqian','csev','cwen','csev','cwen']\n",
    "for keywords in names:\n",
    "    count[keywords]=count.get(keywords,0)+1\n",
    "print(count)"
   ]
  },
  {
   "cell_type": "code",
   "execution_count": 21,
   "metadata": {},
   "outputs": [
    {
     "name": "stdout",
     "output_type": "stream",
     "text": [
      "value : 5\n",
      "1\n",
      "22\n",
      "333\n",
      "4444\n",
      "55555\n"
     ]
    }
   ],
   "source": [
    "x=int(input(\"value : \"))\n",
    "for i in range(1,x+1):\n",
    "    for j in range(1,i+1):\n",
    "        print(i,end='')\n",
    "    print()  "
   ]
  },
  {
   "cell_type": "code",
   "execution_count": 28,
   "metadata": {},
   "outputs": [
    {
     "name": "stdout",
     "output_type": "stream",
     "text": [
      "*\n",
      "**\n",
      "***\n",
      "****\n",
      "*****\n",
      "******\n",
      "*****\n",
      "****\n",
      "***\n",
      "**\n",
      "*\n"
     ]
    }
   ],
   "source": [
    "#y=int(input(\"value : \"))\n",
    "for i in range(1,6):\n",
    "    print('*' * i)\n",
    "for j in range(6,0,-1):\n",
    "    print('*' * j)  "
   ]
  },
  {
   "cell_type": "code",
   "execution_count": 10,
   "metadata": {},
   "outputs": [
    {
     "name": "stdout",
     "output_type": "stream",
     "text": [
      "value : 5\n",
      "value : 4\n",
      "1\n",
      "22\n",
      "333\n",
      "4444\n",
      "55555\n",
      "4444\n",
      "333\n",
      "22\n",
      "1\n"
     ]
    }
   ],
   "source": [
    "x=int(input(\"value : \"))\n",
    "y=int(input(\"value : \"))\n",
    "for i in range(1,x+1):\n",
    "    for j in range(1,i+1):\n",
    "        print(i,end='')\n",
    "    print()    \n",
    "for a in range(y,0,-1):\n",
    "    for b in range(a,0,-1):\n",
    "        print(a,end='')\n",
    "    print()\n"
   ]
  },
  {
   "cell_type": "code",
   "execution_count": 11,
   "metadata": {},
   "outputs": [
    {
     "name": "stdout",
     "output_type": "stream",
     "text": [
      "value : 5\n",
      "value : 4\n",
      "1\n",
      "12\n",
      "123\n",
      "1234\n",
      "12345\n",
      "4321\n",
      "321\n",
      "21\n",
      "1\n"
     ]
    }
   ],
   "source": [
    "x=int(input(\"value : \"))\n",
    "y=int(input(\"value : \"))\n",
    "for i in range(1,x+1):\n",
    "    for j in range(1,i+1):\n",
    "        print(j,end='')\n",
    "    print()    \n",
    "for a in range(y,0,-1):\n",
    "    for b in range(a,0,-1):\n",
    "        print(b,end='')\n",
    "    print()\n"
   ]
  },
  {
   "cell_type": "code",
   "execution_count": 15,
   "metadata": {},
   "outputs": [
    {
     "name": "stdout",
     "output_type": "stream",
     "text": [
      "value : 5\n",
      "value : 4\n",
      "1\n",
      "12\n",
      "123\n",
      "1234\n",
      "12345\n",
      "4321\n",
      "321\n",
      "21\n",
      "1\n"
     ]
    }
   ],
   "source": [
    "x=int(input(\"value : \"))\n",
    "y=int(input(\"value : \"))\n",
    "for i in range(1,x+1):\n",
    "    for j in range(1,i+1):\n",
    "        print(j,end='')\n",
    "    print()    \n",
    "for a in range(y,0,-1):\n",
    "    for b in range(a,0,-1):\n",
    "        print(b,end='')\n",
    "    print()"
   ]
  },
  {
   "cell_type": "code",
   "execution_count": 39,
   "metadata": {},
   "outputs": [
    {
     "name": "stdout",
     "output_type": "stream",
     "text": [
      "value : 5\n",
      "1234\n",
      "123\n",
      "12\n",
      "1\n"
     ]
    }
   ],
   "source": [
    "y=int(input(\"value : \"))\n",
    "for a in range(y,1,-1):\n",
    "    for b in range(1,a):\n",
    "        print(b,end='')\n",
    "    print()"
   ]
  },
  {
   "cell_type": "code",
   "execution_count": 41,
   "metadata": {},
   "outputs": [
    {
     "name": "stdout",
     "output_type": "stream",
     "text": [
      "value : 5\n",
      "value : 5\n",
      "1\n",
      "12\n",
      "123\n",
      "1234\n",
      "12345\n",
      "1234\n",
      "123\n",
      "12\n",
      "1\n"
     ]
    }
   ],
   "source": [
    "x=int(input(\"value : \"))\n",
    "y=int(input(\"value : \"))\n",
    "for i in range(1,x+1):\n",
    "    for j in range(1,i+1):\n",
    "        print(j,end='')\n",
    "    print()    \n",
    "for a in range(y,1,-1):\n",
    "    for b in range(1,a):\n",
    "        print(b,end='')\n",
    "    print()"
   ]
  },
  {
   "cell_type": "code",
   "execution_count": null,
   "metadata": {},
   "outputs": [],
   "source": [
    "x=int(input(\"value : \"))\n",
    "y=int(input(\"value : \"))\n",
    "for i in range(1,x+1):\n",
    "    for j in range(1,i+1):\n",
    "        print(j,end='')\n",
    "    print()    \n",
    "for a in range(y,1,-1):\n",
    "    for b in range(1,a):\n",
    "        print(b,end='')\n",
    "    print()\n",
    "for i in range(1,x+1):\n",
    "    for j in range(1,i+1):\n",
    "        print(j,end='')\n",
    "    print()    \n",
    "for a in range(y,1,-1):\n",
    "    for b in range(1,a):\n",
    "        print(b,end='')\n",
    "    print()\n"
   ]
  },
  {
   "cell_type": "code",
   "execution_count": null,
   "metadata": {},
   "outputs": [],
   "source": [
    "car{\"brand\" : \"ford\"}"
   ]
  }
 ],
 "metadata": {
  "kernelspec": {
   "display_name": "Python 3",
   "language": "python",
   "name": "python3"
  },
  "language_info": {
   "codemirror_mode": {
    "name": "ipython",
    "version": 3
   },
   "file_extension": ".py",
   "mimetype": "text/x-python",
   "name": "python",
   "nbconvert_exporter": "python",
   "pygments_lexer": "ipython3",
   "version": "3.7.4"
  }
 },
 "nbformat": 4,
 "nbformat_minor": 2
}
